{
 "cells": [
  {
   "cell_type": "markdown",
   "metadata": {
    "collapsed": true,
    "pycharm": {
     "name": "#%% md\n"
    }
   },
   "source": [
    "# Arbitrary number of inputs with binary outcome\n",
    "\n",
    "Here where are testing the linear algorithm, that we previously used for a binary input / binary output case on an\n",
    "arbitrary number of inputs / binary output case. As a non-local probability distribution we will use the *generalised\n",
    "PR-box*.\n",
    "\n",
    "Furthermore we will extend the number of outputs to 3, to simulate detectors with finite efficiency."
   ]
  },
  {
   "cell_type": "code",
   "execution_count": 40,
   "outputs": [],
   "source": [
    "from itertools import product\n",
    "inputs_a = range(4)\n",
    "inputs_b = range(4)\n",
    "outputs = range(2)\n",
    "dim = (len(outputs)**2) * (len(inputs_a)*len(inputs_b))\n",
    "# a list of all possible input and output combinations\n",
    "output_input_combs = product(outputs, outputs, inputs_a, inputs_b)"
   ],
   "metadata": {
    "collapsed": false,
    "pycharm": {
     "name": "#%%\n"
    }
   }
  },
  {
   "cell_type": "markdown",
   "source": [
    "# Generalised PR Box\n",
    "We are now taking the generalised PR box distribution and find a Bell inequality that it violates."
   ],
   "metadata": {
    "collapsed": false,
    "pycharm": {
     "name": "#%% md\n"
    }
   }
  },
  {
   "cell_type": "code",
   "execution_count": 41,
   "outputs": [
    {
     "name": "stdout",
     "output_type": "stream",
     "text": [
      "\n",
      "Optimization terminated successfully.\n",
      "S = s*p - S_L = 1.0000000017794832\n"
     ]
    }
   ],
   "source": [
    "from utils import general_pr_box, get_deterministic_behaviors\n",
    "import numpy as np\n",
    "from scipy.optimize import linprog\n",
    "\n",
    "# define the behavior corresponding to the Bell inequality\n",
    "p = []\n",
    "for c in output_input_combs:\n",
    "    p.append(general_pr_box(*c))\n",
    "p = np.array(p)\n",
    "assert p.shape[0] == dim\n",
    "\n",
    "# get the deterministic behaviors for this case\n",
    "dets = get_deterministic_behaviors(inputs_a, inputs_b, outputs)\n",
    "\n",
    "# setup the vectors for SciPy solver\n",
    "p = np.r_[p, [-1.0]]\n",
    "dets = np.c_[dets, -1.0 * np.ones(dets.shape[0])]\n",
    "assert dets.shape[1] == dim+1\n",
    "\n",
    "# objective function and inequalities\n",
    "obj = -p\n",
    "lhs_ineq = np.append(dets, [p], axis=0)\n",
    "rhs_ineq = np.r_[np.zeros(dets.shape[0]), [1.0]]\n",
    "print()\n",
    "# run the optimizer\n",
    "opt = linprog(c=obj, A_ub=lhs_ineq, b_ub=rhs_ineq)\n",
    "print(opt.message)\n",
    "\n",
    "print('S = s*p - S_L = {}'.format(p @ opt.x))"
   ],
   "metadata": {
    "collapsed": false,
    "pycharm": {
     "name": "#%%\n"
    }
   }
  },
  {
   "cell_type": "markdown",
   "source": [
    "We find that the PR-box behavior fulfills  $S > 0$. Thus it is non-local!\n",
    "\n",
    "## Extension to a inefficient detector\n",
    "We now reserve the output $a = 2$ or $b = 2$ to be a failure of the detector.\n",
    "Thus we have to redefine the probability distribution and the deterministic behaviors.\n"
   ],
   "metadata": {
    "collapsed": false,
    "pycharm": {
     "name": "#%% md\n"
    }
   }
  },
  {
   "cell_type": "code",
   "execution_count": 42,
   "outputs": [],
   "source": [
    "from utils import general_pr_box_extended\n",
    "# inputs and outputs\n",
    "inputs_a = range(4)\n",
    "inputs_b = range(4)\n",
    "outputs = range(3) # 2 outputs + 1 failure\n",
    "outputs_wo_failure = outputs[:-1]\n",
    "dim = (len(outputs)**2) * (len(inputs_a)*len(inputs_b))\n",
    "# a list of all possible input and output combinations\n",
    "output_input_combs = product(outputs, outputs, inputs_a, inputs_b)\n",
    "\n",
    "# detection efficiency\n",
    "eta = 0.4\n",
    "\n",
    "# define the probability distribution\n",
    "p = []\n",
    "for c in output_input_combs:\n",
    "    p.append(general_pr_box_extended(*c,eta,inputs_a,inputs_b,outputs_wo_failure))\n",
    "p = np.array(p)\n",
    "assert p.shape[0] == dim"
   ],
   "metadata": {
    "collapsed": false,
    "pycharm": {
     "name": "#%%\n"
    }
   }
  },
  {
   "cell_type": "markdown",
   "source": [
    "We now defined the PR box for a given number of inputs $m_a$ and $m_b$ and detection efficiency $\\eta$. For some specific\n",
    "cases of $m_a,m_b$ the lowest efficiency $\\eta^{*}$, until which non local distributions exist has been found. We have set\n",
    "efficiency below the threshold for the $m_a = m_b = 4$ case (threshold is $0.5$ for this case). Thus our PR-box example should be local. This is what we test\n",
    "in the next code block."
   ],
   "metadata": {
    "collapsed": false,
    "pycharm": {
     "name": "#%% md\n"
    }
   }
  },
  {
   "cell_type": "code",
   "execution_count": 43,
   "outputs": [
    {
     "name": "stdout",
     "output_type": "stream",
     "text": [
      "Optimization terminated successfully.\n",
      "S = s*p - S_L = 3.125960462702082e-10\n"
     ]
    }
   ],
   "source": [
    "# get local deterministic behaviors\n",
    "dets = get_deterministic_behaviors(inputs_a, inputs_b, outputs)\n",
    "\n",
    "# setup the vectors for SciPy solver\n",
    "p = np.r_[p, [-1.0]]\n",
    "dets = np.c_[dets, -1.0 * np.ones(dets.shape[0])]\n",
    "assert dets.shape[1] == dim+1\n",
    "\n",
    "# objective function and inequalities\n",
    "obj = -p\n",
    "lhs_ineq = np.r_[dets, [p]]\n",
    "rhs_ineq = np.r_[np.zeros(dets.shape[0]), [1.0]]\n",
    "\n",
    "# run the optimizer\n",
    "opt = linprog(c=obj, A_ub=lhs_ineq, b_ub=rhs_ineq)\n",
    "print(opt.message)\n",
    "\n",
    "print('S = s*p - S_L = {}'.format(p @ opt.x))"
   ],
   "metadata": {
    "collapsed": false,
    "pycharm": {
     "name": "#%%\n"
    }
   }
  },
  {
   "cell_type": "markdown",
   "source": [
    "So as we have set $\\eta \\leq \\eta^{*}$, we expected, that the behavior is local. Thus no Bell inequality that is violated\n",
    "can be found, i.e. $S = 0$.\n"
   ],
   "metadata": {
    "collapsed": false,
    "pycharm": {
     "name": "#%% md\n"
    }
   }
  }
 ],
 "metadata": {
  "kernelspec": {
   "display_name": "Python 3",
   "language": "python",
   "name": "python3"
  },
  "language_info": {
   "codemirror_mode": {
    "name": "ipython",
    "version": 2
   },
   "file_extension": ".py",
   "mimetype": "text/x-python",
   "name": "python",
   "nbconvert_exporter": "python",
   "pygments_lexer": "ipython2",
   "version": "2.7.6"
  }
 },
 "nbformat": 4,
 "nbformat_minor": 0
}