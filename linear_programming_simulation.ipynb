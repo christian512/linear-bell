{
 "cells": [
  {
   "cell_type": "markdown",
   "source": [
    "Function for returning the probabilities of a PR-box.\n",
    "Later we want to use the two possible outputs {-1,+1}. However the simplest definition of the PR box probability\n",
    "distribution is using outputs {0,1}. Hence we just reassign the output -1 to 0 in within the function, as this does not\n",
    "influence the probabilities of the PR box.\n",
    "TODO: Insert $$\\LaTeX$$ equations."
   ],
   "metadata": {
    "collapsed": false
   }
  },
  {
   "cell_type": "code",
   "execution_count": 22,
   "outputs": [],
   "source": [
    "import numpy as np\n",
    "def prob_pr_box(a,b,x,y):\n",
    "    s = x*y\n",
    "    if a == -1: a = 0\n",
    "    if b == -1: b = 0\n",
    "    t = (a+b) % 2\n",
    "    return 1/2 * int(s == t)"
   ],
   "metadata": {
    "collapsed": false,
    "pycharm": {
     "name": "#%%\n"
    }
   }
  },
  {
   "cell_type": "markdown",
   "source": [
    "Now we iterate through all possible inputs and outputs to define the behavior corresponding to the PR box"
   ],
   "metadata": {
    "collapsed": false
   }
  },
  {
   "cell_type": "code",
   "execution_count": 23,
   "outputs": [],
   "source": [
    "import itertools\n",
    "inputs = [0,1]\n",
    "outputs = [-1,1]\n",
    "dim = len(outputs) ** (2*len(inputs))\n",
    "p = []\n",
    "\n",
    "for x,y in itertools.product(inputs,inputs):\n",
    "    for a,b in itertools.product(outputs,outputs):\n",
    "        p.append(prob_pr_box(a,b,x,y))\n",
    "\n",
    "p = np.array(p)\n",
    "assert len(p) == dim"
   ],
   "metadata": {
    "collapsed": false,
    "pycharm": {
     "name": "#%%\n"
    }
   }
  },
  {
   "cell_type": "markdown",
   "source": [
    "Now we have the behavior defined as a vector. As we have shown before (see blackboard) the\n",
    "deterministic behaviors are just the basis vectors of R^16."
   ],
   "metadata": {
    "collapsed": false
   }
  },
  {
   "cell_type": "code",
   "execution_count": 24,
   "outputs": [],
   "source": [
    "deterministics = []\n",
    "for i in range(dim):\n",
    "    d = np.zeros(dim)\n",
    "    d[i] = 1\n",
    "    deterministics.append(d)"
   ],
   "metadata": {
    "collapsed": false,
    "pycharm": {
     "name": "#%%\n"
    }
   }
  },
  {
   "cell_type": "markdown",
   "source": [
    "Now we can come to the linear optimization problem to find the bell inequality. Therefore we need to make\n",
    "some adaptions to the dual formulation of the problem as we want to use SciPy to solve the problem.\n",
    "\n",
    "We extend the dimensions of the problem to '''dim+1''', where the last entry of the behavior and all the deterministic\n",
    "behaviors is equal to -1. Thus we only need to find a '''dim+1''' dimensional vector that fulfills the inequalities\n",
    "and all the subtractions are included in the vector product."
   ],
   "metadata": {
    "collapsed": false
   }
  },
  {
   "cell_type": "code",
   "execution_count": 25,
   "outputs": [],
   "source": [
    "# modify behaviors for scipy optimization\n",
    "for i in range(len(deterministics)):\n",
    "    deterministics[i] = np.append(deterministics[i],[-1.0])\n",
    "p = np.append(p, [-1.0])"
   ],
   "metadata": {
    "collapsed": false,
    "pycharm": {
     "name": "#%%\n"
    }
   }
  },
  {
   "cell_type": "markdown",
   "source": [
    "Now define the inequalities and the objective function to run the SciPy optimizer. Note here that SciPy only provides a\n",
    "minimizer. So we have to invert the sign of the objective function."
   ],
   "metadata": {
    "collapsed": false
   }
  },
  {
   "cell_type": "code",
   "execution_count": 26,
   "outputs": [],
   "source": [
    "# objective function\n",
    "obj = -p\n",
    "\n",
    "# left hand side of the inequalities\n",
    "lhs_ineq = deterministics\n",
    "lhs_ineq.append(p)\n",
    "\n",
    "# right hand side of the inequalities\n",
    "rhs_ineq = np.zeros(dim+1)\n",
    "rhs_ineq[-1] = 1"
   ],
   "metadata": {
    "collapsed": false,
    "pycharm": {
     "name": "#%%\n"
    }
   }
  },
  {
   "cell_type": "code",
   "execution_count": 27,
   "outputs": [
    {
     "name": "stdout",
     "output_type": "stream",
     "text": [
      "Optimization terminated successfully.\n"
     ]
    }
   ],
   "source": [
    "from scipy.optimize import linprog\n",
    "\n",
    "# run the optimizer\n",
    "opt = linprog(c=obj, A_ub=lhs_ineq, b_ub=rhs_ineq)\n",
    "print(opt.message)"
   ],
   "metadata": {
    "collapsed": false,
    "pycharm": {
     "name": "#%%\n"
    }
   }
  },
  {
   "cell_type": "markdown",
   "source": [
    "Now we can retrieve the result from the optimal values. The last entry in the optimal vector is the bound variale S_l.\n",
    "Multiplying p with the optimal result gives us the maximal value of S = s*p - S_l.\n",
    "As this is 1, we know that the behavior is non local. To get the total value of s*p and S_l we have to seperate the\n",
    "optimal values further"
   ],
   "metadata": {
    "collapsed": false
   }
  },
  {
   "cell_type": "code",
   "execution_count": 28,
   "outputs": [
    {
     "name": "stdout",
     "output_type": "stream",
     "text": [
      "S = 1.0000000000019682\n",
      "s*p = 2.314959538106127\n",
      "S_l = 1.314959538104159\n"
     ]
    }
   ],
   "source": [
    "S = np.dot(p,opt.x)\n",
    "print('S = {}'.format(S))\n",
    "print('s*p = {}'.format(np.dot(p[:-1],opt.x[:-1])))\n",
    "print('S_l = {}'.format(opt.x[-1]))"
   ],
   "metadata": {
    "collapsed": false,
    "pycharm": {
     "name": "#%%\n"
    }
   }
  },
  {
   "cell_type": "markdown",
   "source": [
    "From what I've read I hear that the PR box violates the CHSH inequality with a maximal violation of 4. However with\n",
    "this program I only find a violation of 2.33, which is even lower than 2 * sqrt(2) (which would be the maximal value\n",
    "achievable with quantum behavior).\n",
    "\n",
    "Maybe I should check what kind of inequality results here, as I also remember that for the local polytope the only\n",
    "Bell inequality (that is non trivial) is the CHSH inequality. But maybe I am confusing something here.\n",
    "\n",
    "So let's continue with check what violation of the CHSH inequality would give."
   ],
   "metadata": {
    "collapsed": false,
    "pycharm": {
     "name": "#%% md\n"
    }
   }
  },
  {
   "cell_type": "code",
   "execution_count": 29,
   "outputs": [
    {
     "name": "stdout",
     "output_type": "stream",
     "text": [
      "4.0\n"
     ]
    }
   ],
   "source": [
    "# calculate the value of the chsh inequality by simultaneously calculating each correlator\n",
    "chsh = 0\n",
    "for a,b in itertools.product(outputs,outputs):\n",
    "    chsh += a*b*prob_pr_box(a,b,0,0)\n",
    "    chsh += a*b*prob_pr_box(a,b,0,1)\n",
    "    chsh += a*b*prob_pr_box(a,b,1,0)\n",
    "    chsh -= a*b*prob_pr_box(a,b,1,1)\n",
    "print(chsh)"
   ],
   "metadata": {
    "collapsed": false,
    "pycharm": {
     "name": "#%%\n"
    }
   }
  },
  {
   "cell_type": "markdown",
   "source": [],
   "metadata": {
    "collapsed": false,
    "pycharm": {
     "name": "#%% md\n"
    }
   }
  }
 ],
 "metadata": {
  "kernelspec": {
   "display_name": "Python 3",
   "language": "python",
   "name": "python3"
  },
  "language_info": {
   "codemirror_mode": {
    "name": "ipython",
    "version": 2
   },
   "file_extension": ".py",
   "mimetype": "text/x-python",
   "name": "python",
   "nbconvert_exporter": "python",
   "pygments_lexer": "ipython2",
   "version": "2.7.6"
  }
 },
 "nbformat": 4,
 "nbformat_minor": 0
}