{
 "cells": [
  {
   "cell_type": "markdown",
   "metadata": {
    "collapsed": true,
    "pycharm": {
     "name": "#%% md\n"
    }
   },
   "source": [
    "# Enumerate Facet inequalities for a given number of inputs and binary outputs\n",
    "Here I want to implement an algorithm, to find all facet inequalities for a given number of inputs and binary outputs.\n",
    "This follows the construction of *Algorithm 1* in the paper [*Bell inequalities from no-signalling distribution*, *Cope & Colbeck (2019)*](https://arxiv.org/abs/1812.10017).\n",
    "\n",
    "First we set the number of inputs and outputs and obtain the extremal points for the specific NS polytope."
   ]
  },
  {
   "cell_type": "code",
   "execution_count": 7,
   "outputs": [],
   "source": [
    "from utils import extremal_ns_binary_vertices, get_deterministic_behaviors\n",
    "import numpy as np\n",
    "# set inputs / outputs\n",
    "inputs_a = range(3)\n",
    "inputs_b = range(2)\n",
    "outputs = range(2)\n",
    "\n",
    "# get extremal points\n",
    "extremals = extremal_ns_binary_vertices(inputs_a, inputs_b, outputs)\n",
    "\n",
    "# get deterministic points\n",
    "dets = get_deterministic_behaviors(inputs_a, inputs_b, outputs)"
   ],
   "metadata": {
    "collapsed": false,
    "pycharm": {
     "name": "#%%\n"
    }
   }
  },
  {
   "cell_type": "code",
   "execution_count": 8,
   "outputs": [],
   "source": [
    "from utils import find_local_weight, facet_inequality_check\n",
    "from itertools import product\n",
    "epsilon = 0.1\n",
    "# list of all facets\n",
    "facets = []\n",
    "# iterate through extremals\n",
    "for e in extremals:\n",
    "    # find the local weight for the extremal behavior\n",
    "    opt, bell_expression = find_local_weight(e, dets)\n",
    "    # check that there is no local part, as it is an extremal point\n",
    "    #assert np.abs(bell_expression @ e) < 1e-9\n",
    "    # find all equalizing local behaviors for the inequality bell_expression @ d >= 1\n",
    "    is_facet, bell_expression, eq_dets = facet_inequality_check(dets, bell_expression, len(inputs_a), len(inputs_b), len(outputs))\n",
    "    # if it's a facet append to all facets\n",
    "    # TODO: Check for relabelling and such!\n",
    "    if is_facet:\n",
    "        facets.append(bell_expression)\n",
    "    # define new behaviors based on epsilon\n",
    "    for j,k in product(range(eq_dets.shape[0]),repeat=2):\n",
    "        # need distinct j,k\n",
    "        if j == k:\n",
    "            continue\n",
    "        # form new probability distribution\n",
    "        e_new = (1-3*epsilon/2)*e + epsilon*eq_dets[j] + epsilon / 2 * eq_dets[k]\n",
    "        # do the facet check again\n",
    "        opt, bell_expression = find_local_weight(e_new, dets)\n",
    "        is_facet, bell_expression, eq_dets_new = facet_inequality_check(dets, bell_expression, len(inputs_a), len(inputs_b), len(outputs))\n",
    "        if is_facet:\n",
    "            facets.append(bell_expression)"
   ],
   "metadata": {
    "collapsed": false,
    "pycharm": {
     "name": "#%%\n"
    }
   }
  },
  {
   "cell_type": "code",
   "execution_count": 8,
   "outputs": [],
   "source": [],
   "metadata": {
    "collapsed": false,
    "pycharm": {
     "name": "#%%\n"
    }
   }
  }
 ],
 "metadata": {
  "kernelspec": {
   "display_name": "Python 3",
   "language": "python",
   "name": "python3"
  },
  "language_info": {
   "codemirror_mode": {
    "name": "ipython",
    "version": 2
   },
   "file_extension": ".py",
   "mimetype": "text/x-python",
   "name": "python",
   "nbconvert_exporter": "python",
   "pygments_lexer": "ipython2",
   "version": "2.7.6"
  }
 },
 "nbformat": 4,
 "nbformat_minor": 0
}