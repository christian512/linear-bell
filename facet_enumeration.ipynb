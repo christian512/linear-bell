{
 "cells": [
  {
   "cell_type": "markdown",
   "metadata": {
    "collapsed": true,
    "pycharm": {
     "name": "#%% md\n"
    }
   },
   "source": [
    "# Enumerate Facet inequalities for a given number of inputs and binary outputs\n",
    "Here I want to implement an algorithm, to find all facet inequalities for a given number of inputs and binary outputs.\n",
    "This follows the construction of *Algorithm 1* in the paper [*Bell inequalities from no-signalling distribution*, *Cope & Colbeck (2019)*](https://arxiv.org/abs/1812.10017).\n",
    "\n",
    "First we set the number of inputs and outputs and obtain the extremal points for the specific NS polytope."
   ]
  },
  {
   "cell_type": "code",
   "execution_count": 15,
   "outputs": [],
   "source": [
    "from utils import extremal_ns_binary_vertices, get_deterministic_behaviors, get_allowed_relabellings\n",
    "import numpy as np\n",
    "# set inputs / outputs\n",
    "inputs_a = range(4)\n",
    "inputs_b = range(4)\n",
    "outputs = range(2)\n",
    "\n",
    "# get extremal points\n",
    "extremals = extremal_ns_binary_vertices(inputs_a, inputs_b, outputs)\n",
    "\n",
    "# get deterministic points\n",
    "dets = get_deterministic_behaviors(inputs_a, inputs_b, outputs)\n",
    "\n",
    "# get allowed relabellings\n",
    "allowed_relabellings = get_allowed_relabellings(inputs_a, inputs_b, outputs)\n",
    "\n",
    "# options for local weight optimizer (bland is only needed for higher dimensions (m_a , m_b > 4)\n",
    "options = {\"disp\": False, \"maxiter\": 5000, \"bland\": True}"
   ],
   "metadata": {
    "collapsed": false,
    "pycharm": {
     "name": "#%%\n"
    }
   }
  },
  {
   "cell_type": "code",
   "execution_count": null,
   "outputs": [
    {
     "name": "stdout",
     "output_type": "stream",
     "text": [
      "0 / 256 : num of facets: 0\n"
     ]
    }
   ],
   "source": [
    "from utils import find_local_weight, facet_inequality_check, check_diff_repr_same_ineq, check_equiv_relabel\n",
    "from itertools import product\n",
    "epsilons = np.linspace(0,2/3, num=4)\n",
    "epsilons = [1/3]\n",
    "\n",
    "# list of all facets\n",
    "facets = []\n",
    "# iterate through extremals\n",
    "for z, e in enumerate(extremals):\n",
    "    print('{} / {} : num of facets: {}'.format(z,len(extremals),len(facets)))\n",
    "    # find the local weight for the extremal behavior\n",
    "    opt, bell_expression = find_local_weight(e, dets, method='simplex', options=options)\n",
    "    # check that there is no local part, as it is an extremal point\n",
    "    assert np.abs(bell_expression @ e) < 1e-6, 'local weight of extremal is not zero: {}'.format(np.abs(bell_expression @ e))\n",
    "    # find all equalizing local behaviors for the inequality bell_expression @ d >= 1\n",
    "    is_facet, bell_expression, eq_dets = facet_inequality_check(dets, bell_expression, len(inputs_a), len(inputs_b), len(outputs))\n",
    "    # check if we found a new facet, by increasing complexity\n",
    "    if not is_facet: continue\n",
    "    # check if other representation is already in facets\n",
    "    check = [check_diff_repr_same_ineq(bell_expression,f,dets) for f in facets]\n",
    "    if True in check: continue\n",
    "    # check if relabelled version is already in facets\n",
    "    check = [check_equiv_relabel(bell_expression, f, allowed_relabellings) for f in facets]\n",
    "    if True in check: continue\n",
    "    # it's a new facet -> append to all facets\n",
    "    facets.append(bell_expression)\n",
    "    # iterate through epsilons\n",
    "    for epsilon in epsilons:\n",
    "        # define new behaviors based on epsilon\n",
    "        for j,k in product(range(eq_dets.shape[0]),repeat=2):\n",
    "            # need distinct j,k\n",
    "            if j == k:\n",
    "                continue\n",
    "            # form new probability distribution\n",
    "            e_new = (1-3*epsilon/2)*e + epsilon*eq_dets[j] + epsilon / 2 * eq_dets[k]\n",
    "            # do the facet check again\n",
    "            opt, bell_expression = find_local_weight(e_new, dets,method='simplex', options=options)\n",
    "            is_facet, bell_expression, eq_dets_new = facet_inequality_check(dets, bell_expression, len(inputs_a), len(inputs_b), len(outputs))\n",
    "            # do the same checks as above, could be done in a better way\n",
    "            if not is_facet: continue\n",
    "            check = [check_diff_repr_same_ineq(bell_expression,f,dets) for f in facets]\n",
    "            if True in check: continue\n",
    "            check = [check_equiv_relabel(bell_expression, f, allowed_relabellings) for f in facets]\n",
    "            if True in check: continue\n",
    "            facets.append(bell_expression)\n",
    "print('Number of facet classes found: {}'.format(len(facets)))"
   ],
   "metadata": {
    "collapsed": false,
    "pycharm": {
     "name": "#%%\n",
     "is_executing": true
    }
   }
  },
  {
   "cell_type": "markdown",
   "source": [
    "Now we have found the number of classes of facets for a specific number of inputs and outputs.\n"
   ],
   "metadata": {
    "collapsed": false,
    "pycharm": {
     "name": "#%% md\n"
    }
   }
  },
  {
   "cell_type": "code",
   "execution_count": null,
   "outputs": [],
   "source": [],
   "metadata": {
    "collapsed": false,
    "pycharm": {
     "name": "#%%\n",
     "is_executing": true
    }
   }
  }
 ],
 "metadata": {
  "kernelspec": {
   "display_name": "Python 3",
   "language": "python",
   "name": "python3"
  },
  "language_info": {
   "codemirror_mode": {
    "name": "ipython",
    "version": 2
   },
   "file_extension": ".py",
   "mimetype": "text/x-python",
   "name": "python",
   "nbconvert_exporter": "python",
   "pygments_lexer": "ipython2",
   "version": "2.7.6"
  }
 },
 "nbformat": 4,
 "nbformat_minor": 0
}