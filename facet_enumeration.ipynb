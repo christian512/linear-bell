{
 "cells": [
  {
   "cell_type": "markdown",
   "metadata": {
    "collapsed": true,
    "pycharm": {
     "name": "#%% md\n"
    }
   },
   "source": [
    "# Enumerate Facet inequalities for a given number of inputs and binary outputs\n",
    "Here I want to implement an algorithm, to find all facet inequalities for a given number of inputs and binary outputs.\n",
    "This follows the construction of *Algorithm 1* in the paper [*Bell inequalities from no-signalling distribution*, *Cope & Colbeck (2019)*](https://arxiv.org/abs/1812.10017).\n",
    "\n",
    "First we set the number of inputs and outputs and obtain the extremal points for the specific NS polytope."
   ]
  },
  {
   "cell_type": "code",
   "execution_count": 2,
   "outputs": [
    {
     "ename": "TypeError",
     "evalue": "list indices must be integers or slices, not tuple",
     "output_type": "error",
     "traceback": [
      "\u001B[0;31m---------------------------------------------------------------------------\u001B[0m",
      "\u001B[0;31mTypeError\u001B[0m                                 Traceback (most recent call last)",
      "\u001B[0;32m<ipython-input-2-ed560c0d1c3f>\u001B[0m in \u001B[0;36m<module>\u001B[0;34m\u001B[0m\n\u001B[1;32m     13\u001B[0m \u001B[0;34m\u001B[0m\u001B[0m\n\u001B[1;32m     14\u001B[0m \u001B[0;31m# get allowed permutation indices for relabelling\u001B[0m\u001B[0;34m\u001B[0m\u001B[0;34m\u001B[0m\u001B[0;34m\u001B[0m\u001B[0m\n\u001B[0;32m---> 15\u001B[0;31m \u001B[0mallowed_perm_indices\u001B[0m \u001B[0;34m=\u001B[0m \u001B[0mget_allowed_relabelling_indices\u001B[0m\u001B[0;34m(\u001B[0m\u001B[0minputs_a\u001B[0m\u001B[0;34m,\u001B[0m \u001B[0minputs_b\u001B[0m\u001B[0;34m,\u001B[0m \u001B[0moutputs\u001B[0m\u001B[0;34m)\u001B[0m\u001B[0;34m\u001B[0m\u001B[0;34m\u001B[0m\u001B[0m\n\u001B[0m\u001B[1;32m     16\u001B[0m \u001B[0;34m\u001B[0m\u001B[0m\n",
      "\u001B[0;32m~/Documents/master_thesis/code/linear-bell/utils.py\u001B[0m in \u001B[0;36mget_allowed_relabelling_indices\u001B[0;34m(inputs_a, inputs_b, outputs)\u001B[0m\n\u001B[1;32m    303\u001B[0m         \u001B[0;32mfor\u001B[0m \u001B[0mold_idx\u001B[0m\u001B[0;34m,\u001B[0m \u001B[0mnew_idx\u001B[0m \u001B[0;32min\u001B[0m \u001B[0menumerate\u001B[0m\u001B[0;34m(\u001B[0m\u001B[0mperm\u001B[0m\u001B[0;34m)\u001B[0m\u001B[0;34m:\u001B[0m\u001B[0;34m\u001B[0m\u001B[0;34m\u001B[0m\u001B[0m\n\u001B[1;32m    304\u001B[0m             \u001B[0;31m# set values of new and old index\u001B[0m\u001B[0;34m\u001B[0m\u001B[0;34m\u001B[0m\u001B[0;34m\u001B[0m\u001B[0m\n\u001B[0;32m--> 305\u001B[0;31m             \u001B[0mx_old\u001B[0m\u001B[0;34m,\u001B[0m \u001B[0my_old\u001B[0m \u001B[0;34m=\u001B[0m \u001B[0mconfigs\u001B[0m\u001B[0;34m[\u001B[0m\u001B[0mold_idx\u001B[0m\u001B[0;34m,\u001B[0m \u001B[0;36m2\u001B[0m\u001B[0;34m]\u001B[0m\u001B[0;34m,\u001B[0m \u001B[0mconfigs\u001B[0m\u001B[0;34m[\u001B[0m\u001B[0mold_idx\u001B[0m\u001B[0;34m,\u001B[0m \u001B[0;36m3\u001B[0m\u001B[0;34m]\u001B[0m\u001B[0;34m\u001B[0m\u001B[0;34m\u001B[0m\u001B[0m\n\u001B[0m\u001B[1;32m    306\u001B[0m             \u001B[0mx_new\u001B[0m\u001B[0;34m,\u001B[0m \u001B[0my_new\u001B[0m \u001B[0;34m=\u001B[0m \u001B[0mconfigs\u001B[0m\u001B[0;34m[\u001B[0m\u001B[0mnew_idx\u001B[0m\u001B[0;34m,\u001B[0m \u001B[0;36m2\u001B[0m\u001B[0;34m]\u001B[0m\u001B[0;34m,\u001B[0m \u001B[0mconfigs\u001B[0m\u001B[0;34m[\u001B[0m\u001B[0mnew_idx\u001B[0m\u001B[0;34m,\u001B[0m \u001B[0;36m3\u001B[0m\u001B[0;34m]\u001B[0m\u001B[0;34m\u001B[0m\u001B[0;34m\u001B[0m\u001B[0m\n\u001B[1;32m    307\u001B[0m \u001B[0;34m\u001B[0m\u001B[0m\n",
      "\u001B[0;31mTypeError\u001B[0m: list indices must be integers or slices, not tuple"
     ]
    }
   ],
   "source": [
    "from utils import extremal_ns_binary_vertices, get_deterministic_behaviors, get_allowed_relabelling_indices\n",
    "import numpy as np\n",
    "# set inputs / outputs\n",
    "inputs_a = range(2)\n",
    "inputs_b = range(2)\n",
    "outputs = range(2)\n",
    "\n",
    "# get extremal points\n",
    "extremals = extremal_ns_binary_vertices(inputs_a, inputs_b, outputs)\n",
    "\n",
    "# get deterministic points\n",
    "dets = get_deterministic_behaviors(inputs_a, inputs_b, outputs)\n",
    "\n",
    "# get allowed permutation indices for relabelling\n",
    "allowed_perm_indices = get_allowed_relabelling_indices(inputs_a, inputs_b, outputs)"
   ],
   "metadata": {
    "collapsed": false,
    "pycharm": {
     "name": "#%%\n"
    }
   }
  },
  {
   "cell_type": "code",
   "execution_count": 1,
   "outputs": [
    {
     "ename": "NameError",
     "evalue": "name 'np' is not defined",
     "output_type": "error",
     "traceback": [
      "\u001B[0;31m---------------------------------------------------------------------------\u001B[0m",
      "\u001B[0;31mNameError\u001B[0m                                 Traceback (most recent call last)",
      "\u001B[0;32m<ipython-input-1-8967d01d7d0b>\u001B[0m in \u001B[0;36m<module>\u001B[0;34m\u001B[0m\n\u001B[1;32m      1\u001B[0m \u001B[0;32mfrom\u001B[0m \u001B[0mutils\u001B[0m \u001B[0;32mimport\u001B[0m \u001B[0mfind_local_weight\u001B[0m\u001B[0;34m,\u001B[0m \u001B[0mfacet_inequality_check\u001B[0m\u001B[0;34m,\u001B[0m \u001B[0mcheck_diff_repr_same_ineq\u001B[0m\u001B[0;34m,\u001B[0m \u001B[0mcheck_equiv_relabel\u001B[0m\u001B[0;34m\u001B[0m\u001B[0;34m\u001B[0m\u001B[0m\n\u001B[1;32m      2\u001B[0m \u001B[0;32mfrom\u001B[0m \u001B[0mitertools\u001B[0m \u001B[0;32mimport\u001B[0m \u001B[0mproduct\u001B[0m\u001B[0;34m\u001B[0m\u001B[0;34m\u001B[0m\u001B[0m\n\u001B[0;32m----> 3\u001B[0;31m \u001B[0mepsilons\u001B[0m \u001B[0;34m=\u001B[0m \u001B[0mnp\u001B[0m\u001B[0;34m.\u001B[0m\u001B[0mlinspace\u001B[0m\u001B[0;34m(\u001B[0m\u001B[0;36m0\u001B[0m\u001B[0;34m,\u001B[0m\u001B[0;36m2\u001B[0m\u001B[0;34m/\u001B[0m\u001B[0;36m3\u001B[0m\u001B[0;34m,\u001B[0m \u001B[0mnum\u001B[0m\u001B[0;34m=\u001B[0m\u001B[0;36m3\u001B[0m\u001B[0;34m)\u001B[0m\u001B[0;34m\u001B[0m\u001B[0;34m\u001B[0m\u001B[0m\n\u001B[0m\u001B[1;32m      4\u001B[0m \u001B[0;34m\u001B[0m\u001B[0m\n\u001B[1;32m      5\u001B[0m \u001B[0;31m# list of all facets\u001B[0m\u001B[0;34m\u001B[0m\u001B[0;34m\u001B[0m\u001B[0;34m\u001B[0m\u001B[0m\n",
      "\u001B[0;31mNameError\u001B[0m: name 'np' is not defined"
     ]
    }
   ],
   "source": [
    "from utils import find_local_weight, facet_inequality_check, check_diff_repr_same_ineq, check_equiv_relabel\n",
    "from itertools import product\n",
    "epsilons = np.linspace(0,2/3, num=3)\n",
    "\n",
    "# list of all facets\n",
    "facets = []\n",
    "for epsilon in epsilons:\n",
    "    # iterate through extremals\n",
    "    for e in extremals:\n",
    "        # find the local weight for the extremal behavior\n",
    "        opt, bell_expression = find_local_weight(e, dets, method='simplex')\n",
    "        # check that there is no local part, as it is an extremal point\n",
    "        assert np.abs(bell_expression @ e) < 1e-6\n",
    "        # find all equalizing local behaviors for the inequality bell_expression @ d >= 1\n",
    "        is_facet, bell_expression, eq_dets = facet_inequality_check(dets, bell_expression, len(inputs_a), len(inputs_b), len(outputs))\n",
    "        # check if other representation is already in facets\n",
    "        check = [check_diff_repr_same_ineq(bell_expression,f,dets) for f in facets]\n",
    "        if True in check:\n",
    "            continue\n",
    "        # check if relabelled version is already in facets\n",
    "        check = [check_equiv_relabel(bell_expression, f, allowed_perm_indices) for f in facets]\n",
    "        if True in check:\n",
    "            continue\n",
    "        # if it's a facet append to all facets\n",
    "\n",
    "        if is_facet:\n",
    "            facets.append(bell_expression)\n",
    "        # define new behaviors based on epsilon\n",
    "        for j,k in product(range(eq_dets.shape[0]),repeat=2):\n",
    "            # need distinct j,k\n",
    "            if j == k:\n",
    "                continue\n",
    "            # form new probability distribution\n",
    "            e_new = (1-3*epsilon/2)*e + epsilon*eq_dets[j] + epsilon / 2 * eq_dets[k]\n",
    "            # do the facet check again\n",
    "            opt, bell_expression = find_local_weight(e_new, dets,method='simplex')\n",
    "            is_facet, bell_expression, eq_dets_new = facet_inequality_check(dets, bell_expression, len(inputs_a), len(inputs_b), len(outputs))\n",
    "            check = [check_diff_repr_same_ineq(bell_expression,f,dets) for f in facets]\n",
    "            if True in check:\n",
    "                continue\n",
    "            if is_facet:\n",
    "                facets.append(bell_expression)\n",
    "print('Number of facets found: {}'.format(len(facets)))"
   ],
   "metadata": {
    "collapsed": false,
    "pycharm": {
     "name": "#%%\n"
    }
   }
  },
  {
   "cell_type": "markdown",
   "source": [
    "Now we have found some facets for the specific case.\n",
    "However we still have to check for similar Bell inequalities under relabelling.\n"
   ],
   "metadata": {
    "collapsed": false,
    "pycharm": {
     "name": "#%% md\n"
    }
   }
  },
  {
   "cell_type": "code",
   "execution_count": 2,
   "outputs": [],
   "source": [],
   "metadata": {
    "collapsed": false,
    "pycharm": {
     "name": "#%%\n"
    }
   }
  }
 ],
 "metadata": {
  "kernelspec": {
   "display_name": "Python 3",
   "language": "python",
   "name": "python3"
  },
  "language_info": {
   "codemirror_mode": {
    "name": "ipython",
    "version": 2
   },
   "file_extension": ".py",
   "mimetype": "text/x-python",
   "name": "python",
   "nbconvert_exporter": "python",
   "pygments_lexer": "ipython2",
   "version": "2.7.6"
  }
 },
 "nbformat": 4,
 "nbformat_minor": 0
}