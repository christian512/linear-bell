{
 "cells": [
  {
   "cell_type": "markdown",
   "metadata": {
    "collapsed": true,
    "pycharm": {
     "name": "#%% md\n"
    }
   },
   "source": [
    "# Enumerate Facet inequalities for a given number of inputs and binary outputs\n",
    "Here I want to implement an algorithm, to find all facet inequalities for a given number of inputs and binary outputs.\n",
    "This follows the construction of *Algorithm 1* in the paper [*Bell inequalities from no-signalling distribution*, *Cope & Colbeck (2019)*](https://arxiv.org/abs/1812.10017).\n",
    "\n",
    "First we set the number of inputs and outputs and obtain the extremal points for the specific NS polytope."
   ]
  },
  {
   "cell_type": "code",
   "execution_count": 1,
   "outputs": [],
   "source": [
    "from src.utils import extremal_ns_binary_vertices, get_deterministic_behaviors, get_allowed_relabellings\n",
    "import numpy as np\n",
    "from src.utils import find_local_weight, facet_inequality_check, check_equiv_bell\n",
    "from itertools import product\n",
    "# set inputs / outputs\n",
    "inputs_a = range(4)\n",
    "inputs_b = range(4)\n",
    "outputs = range(2)\n",
    "epsilons = np.linspace(1/3,2/3, num=3)\n",
    "facets_file = 'facets/{}{}{}{}_{}eps.txt'.format(len(inputs_a), len(inputs_b), len(outputs), len(outputs), len(epsilons))\n",
    "extremals_file = 'extremals/{}{}{}{}_{}eps.txt'.format(len(inputs_a), len(inputs_b), len(outputs), len(outputs), len(epsilons))\n",
    "# get extremal points\n",
    "extremals = extremal_ns_binary_vertices(inputs_a, inputs_b, outputs)\n",
    "\n",
    "# get deterministic points\n",
    "dets = get_deterministic_behaviors(inputs_a, inputs_b, outputs)\n",
    "\n",
    "# get allowed relabellings\n",
    "allowed_relabellings = get_allowed_relabellings(inputs_a, inputs_b, outputs, outputs)\n",
    "\n",
    "# options for local weight optimizer (bland is only needed for higher dimensions (m_a , m_b > 4)\n",
    "options = {\"disp\": False, \"maxiter\": 5000, \"bland\": True}\n",
    "method='simplex'\n",
    "\n",
    "# open files to create them\n",
    "f = open(facets_file, 'w+')\n",
    "f.close()\n",
    "f = open(extremals_file, 'w+')\n",
    "f.close()"
   ],
   "metadata": {
    "collapsed": false,
    "pycharm": {
     "name": "#%%\n"
    }
   }
  },
  {
   "cell_type": "markdown",
   "source": [
    "Define functions for parallel execution."
   ],
   "metadata": {
    "collapsed": false,
    "pycharm": {
     "name": "#%% md\n"
    }
   }
  },
  {
   "cell_type": "code",
   "execution_count": 2,
   "outputs": [],
   "source": [
    "def get_string_from_numpy_array(arr):\n",
    "    s = \"\"\n",
    "    for x in arr:\n",
    "        s += \"%.18e\" % x\n",
    "        s += \" \"\n",
    "    s = s[:-1]\n",
    "    s += \"\\n\"\n",
    "    return s\n",
    "\n",
    "def get_facet(extremal, facet_q, extremals_q):\n",
    "    # read current facets from file -> does not work with np.loadtxt\n",
    "    lines = open(facets_file).readlines()\n",
    "    curr_facets = []\n",
    "    for line in lines:\n",
    "        f = [float(x) for x in line.split(' ')]\n",
    "        curr_facets.append(f)\n",
    "    curr_facets = np.array(curr_facets)\n",
    "    # calculate local weight\n",
    "    _ , bell_exp = find_local_weight(extremal, dets, method=method, options=options)\n",
    "    # check if there is a facet\n",
    "    isf, bell, eq_dets = facet_inequality_check(dets, bell_exp, len(inputs_a), len(inputs_b), len(outputs))\n",
    "    if isf:\n",
    "        c = [check_equiv_bell(bell, f, allowed_relabellings, dets) for f in curr_facets]\n",
    "        if True in c: isf = False\n",
    "    # write equalizing dets to equalizing dets file\n",
    "    if extremals_q:\n",
    "        for eq_det in eq_dets:\n",
    "            s = get_string_from_numpy_array(eq_det)\n",
    "            extremals_q.put(s)\n",
    "        extremals_q.put('+++++')\n",
    "    # if it's a facet, write facet to facet writer\n",
    "    if isf:\n",
    "        s = get_string_from_numpy_array(bell)\n",
    "        # append string of facet to queue\n",
    "        facet_q.put(s)\n",
    "    return True\n",
    "\n",
    "def facet_writer(queue):\n",
    "    print('Facet writer started')\n",
    "    new_facet = None\n",
    "    # load current facets\n",
    "    with open(facets_file, 'a+') as out:\n",
    "        # infinity loop only stopped when kill is read\n",
    "        while True:\n",
    "            m = queue.get()\n",
    "            # stop when kill is received\n",
    "            if m == 'kill':\n",
    "                print('facet writer killed')\n",
    "                break\n",
    "            # check if the facet that should be written was the last facet found\n",
    "            # maybe the facet worker did not read it from the file yet\n",
    "            # Maybe you can add here multiple new_facets if you have more workers available\n",
    "            if new_facet:\n",
    "                # get the facet from the string\n",
    "                f1 = np.array([[float(r) for r in m[:-2].split(' ')]])\n",
    "                # check if the received facet is equal to the last newly found facet\n",
    "                if not check_equiv_bell(new_facet, f1,allowed_relabellings,dets):\n",
    "                    # if not\n",
    "                    out.write(m)\n",
    "                    out.flush()\n",
    "                    new_facet = f1\n",
    "                    print('wrote facet: {}'.format(new_facet))\n",
    "            # if there is no new facet yet found\n",
    "            if not new_facet:\n",
    "                out.write(m)\n",
    "                out.flush()\n",
    "                new_facet = np.array([float(r) for r in m[:-2].split(' ')])\n",
    "                print('wrote facet: {}'.format(new_facet))\n",
    "def extremal_writer(queue):\n",
    "    print('Extremal Writer Started')\n",
    "    with open(extremals_file, 'a+') as out:\n",
    "        while True:\n",
    "            m = queue.get()\n",
    "            if m == 'kill':\n",
    "                print('extremal writer killed')\n",
    "                break\n",
    "            out.write(m)\n",
    "            out.flush()"
   ],
   "metadata": {
    "collapsed": false,
    "pycharm": {
     "name": "#%%\n"
    }
   }
  },
  {
   "cell_type": "markdown",
   "source": [
    "Parallelize the iteration through the extremal points of NS. Find facet inequalities while doing so and form the\n",
    "new behaviors to test. Store facets and new behaviors for later testing."
   ],
   "metadata": {
    "collapsed": false,
    "pycharm": {
     "name": "#%% md\n"
    }
   }
  },
  {
   "cell_type": "code",
   "execution_count": 3,
   "outputs": [
    {
     "name": "stdout",
     "output_type": "stream",
     "text": [
      "Facet writer started\n",
      "Extremal Writer Started\n",
      "0 / 256\n",
      "wrote facet: [ 0.00000000e+00  0.00000000e+00  0.00000000e+00  0.00000000e+00\n",
      "  0.00000000e+00  1.00000000e+00  0.00000000e+00  0.00000000e+00\n",
      "  0.00000000e+00  0.00000000e+00  0.00000000e+00  0.00000000e+00\n",
      "  0.00000000e+00  0.00000000e+00  2.48689958e-14  0.00000000e+00\n",
      "  0.00000000e+00  0.00000000e+00  0.00000000e+00  0.00000000e+00\n",
      "  1.00000000e+00  0.00000000e+00  9.13713549e-14  1.10911280e-13\n",
      "  1.00000000e+00  1.00000000e+00  1.11133325e-13  7.88258347e-14\n",
      "  0.00000000e+00  0.00000000e+00  0.00000000e+00  1.21014310e-13\n",
      "  1.31894495e-13  0.00000000e+00  5.90638649e-14  0.00000000e+00\n",
      "  1.00000000e+00  0.00000000e+00  0.00000000e+00  0.00000000e+00\n",
      "  1.00000000e+00  1.00000000e+00  0.00000000e+00  0.00000000e+00\n",
      "  8.67084182e-14 -9.32587341e-15  0.00000000e+00  0.00000000e+00\n",
      "  0.00000000e+00  0.00000000e+00  0.00000000e+00  0.00000000e+00\n",
      "  0.00000000e+00  1.00000000e+00  0.00000000e+00  0.00000000e+00\n",
      "  0.00000000e+00  0.00000000e+00  0.00000000e+00  0.00000000e+00\n",
      "  0.00000000e+00  0.00000000e+00  2.34479103e-13  0.00000000e+00]\n",
      "1 / 256\n",
      "2 / 256\n",
      "3 / 256\n",
      "4 / 256\n",
      "5 / 256\n",
      "6 / 256\n",
      "7 / 256\n",
      "8 / 256\n",
      "9 / 256\n",
      "10 / 256\n",
      "11 / 256\n",
      "12 / 256\n",
      "13 / 256\n",
      "14 / 256\n",
      "15 / 256\n",
      "16 / 256\n",
      "17 / 256\n",
      "18 / 256\n",
      "19 / 256\n",
      "20 / 256\n",
      "21 / 256\n",
      "22 / 256\n"
     ]
    },
    {
     "name": "stderr",
     "output_type": "stream",
     "text": [
      "Process ForkPoolWorker-4:\n",
      "Process ForkPoolWorker-7:\n",
      "Process ForkPoolWorker-2:\n",
      "Process ForkPoolWorker-3:\n",
      "Traceback (most recent call last):\n",
      "Traceback (most recent call last):\n",
      "Traceback (most recent call last):\n",
      "  File \"/home/chris/anaconda3/envs/linear-bell/lib/python3.8/multiprocessing/process.py\", line 315, in _bootstrap\n",
      "    self.run()\n",
      "  File \"/home/chris/anaconda3/envs/linear-bell/lib/python3.8/multiprocessing/process.py\", line 315, in _bootstrap\n",
      "    self.run()\n",
      "  File \"/home/chris/anaconda3/envs/linear-bell/lib/python3.8/multiprocessing/process.py\", line 108, in run\n",
      "    self._target(*self._args, **self._kwargs)\n",
      "  File \"/home/chris/anaconda3/envs/linear-bell/lib/python3.8/multiprocessing/process.py\", line 108, in run\n",
      "    self._target(*self._args, **self._kwargs)\n",
      "  File \"/home/chris/anaconda3/envs/linear-bell/lib/python3.8/multiprocessing/process.py\", line 315, in _bootstrap\n",
      "    self.run()\n",
      "Traceback (most recent call last):\n",
      "  File \"/home/chris/anaconda3/envs/linear-bell/lib/python3.8/multiprocessing/pool.py\", line 125, in worker\n",
      "    result = (True, func(*args, **kwds))\n",
      "  File \"<ipython-input-2-d3a4c6595a95>\", line 23, in get_facet\n",
      "    c = [check_equiv_bell(bell, f, allowed_relabellings, dets) for f in curr_facets]\n",
      "Process ForkPoolWorker-5:\n",
      "  File \"/home/chris/anaconda3/envs/linear-bell/lib/python3.8/multiprocessing/pool.py\", line 125, in worker\n",
      "    result = (True, func(*args, **kwds))\n",
      "  File \"/home/chris/anaconda3/envs/linear-bell/lib/python3.8/multiprocessing/process.py\", line 315, in _bootstrap\n",
      "    self.run()\n",
      "  File \"/home/chris/anaconda3/envs/linear-bell/lib/python3.8/multiprocessing/process.py\", line 108, in run\n",
      "    self._target(*self._args, **self._kwargs)\n",
      "Traceback (most recent call last):\n",
      "  File \"<ipython-input-2-d3a4c6595a95>\", line 23, in get_facet\n",
      "    c = [check_equiv_bell(bell, f, allowed_relabellings, dets) for f in curr_facets]\n",
      "Process ForkPoolWorker-6:\n",
      "  File \"<ipython-input-2-d3a4c6595a95>\", line 23, in <listcomp>\n",
      "    c = [check_equiv_bell(bell, f, allowed_relabellings, dets) for f in curr_facets]\n",
      "Traceback (most recent call last):\n",
      "  File \"/home/chris/anaconda3/envs/linear-bell/lib/python3.8/multiprocessing/pool.py\", line 125, in worker\n",
      "    result = (True, func(*args, **kwds))\n",
      "  File \"<ipython-input-2-d3a4c6595a95>\", line 19, in get_facet\n",
      "    _ , bell_exp = find_local_weight(extremal, dets, method=method, options=options)\n",
      "  File \"/home/chris/Documents/master_thesis/code/linear-bell/utils.py\", line 163, in find_local_weight\n",
      "    opt = linprog(c=obj, A_ub=lhs_ineq, b_ub=rhs_ineq, method=method, options=options)\n",
      "  File \"/home/chris/Documents/master_thesis/code/linear-bell/utils.py\", line 281, in check_equiv_bell\n",
      "    if check_diff_repr_same_ineq(bell1, bell2[perm], dets):\n",
      "  File \"/home/chris/anaconda3/envs/linear-bell/lib/python3.8/site-packages/scipy/optimize/_linprog.py\", line 542, in linprog\n",
      "    x, status, message, iteration = _linprog_simplex(\n",
      "  File \"<ipython-input-2-d3a4c6595a95>\", line 23, in <listcomp>\n",
      "    c = [check_equiv_bell(bell, f, allowed_relabellings, dets) for f in curr_facets]\n",
      "  File \"/home/chris/anaconda3/envs/linear-bell/lib/python3.8/multiprocessing/process.py\", line 108, in run\n",
      "    self._target(*self._args, **self._kwargs)\n",
      "  File \"/home/chris/Documents/master_thesis/code/linear-bell/utils.py\", line 232, in check_diff_repr_same_ineq\n",
      "    v1 = np.array([d @ bell1 for d in dets])\n",
      "  File \"/home/chris/anaconda3/envs/linear-bell/lib/python3.8/multiprocessing/process.py\", line 315, in _bootstrap\n",
      "    self.run()\n",
      "  File \"/home/chris/anaconda3/envs/linear-bell/lib/python3.8/multiprocessing/pool.py\", line 125, in worker\n",
      "    result = (True, func(*args, **kwds))\n",
      "  File \"/home/chris/Documents/master_thesis/code/linear-bell/utils.py\", line 281, in check_equiv_bell\n",
      "    if check_diff_repr_same_ineq(bell1, bell2[perm], dets):\n",
      "  File \"/home/chris/Documents/master_thesis/code/linear-bell/utils.py\", line 232, in check_diff_repr_same_ineq\n",
      "    v1 = np.array([d @ bell1 for d in dets])\n",
      "  File \"/home/chris/anaconda3/envs/linear-bell/lib/python3.8/multiprocessing/process.py\", line 315, in _bootstrap\n",
      "    self.run()\n",
      "KeyboardInterrupt\n",
      "  File \"<ipython-input-2-d3a4c6595a95>\", line 75, in extremal_writer\n",
      "    m = queue.get()\n",
      "  File \"/home/chris/anaconda3/envs/linear-bell/lib/python3.8/site-packages/scipy/optimize/_linprog_simplex.py\", line 621, in _linprog_simplex\n",
      "    nit1, status = _solve_simplex(T, n, basis, callback=callback,\n",
      "  File \"/home/chris/Documents/master_thesis/code/linear-bell/utils.py\", line 232, in <listcomp>\n",
      "    v1 = np.array([d @ bell1 for d in dets])\n",
      "  File \"/home/chris/anaconda3/envs/linear-bell/lib/python3.8/multiprocessing/process.py\", line 108, in run\n",
      "    self._target(*self._args, **self._kwargs)\n",
      "  File \"<string>\", line 2, in get\n",
      "  File \"/home/chris/anaconda3/envs/linear-bell/lib/python3.8/multiprocessing/pool.py\", line 125, in worker\n",
      "    result = (True, func(*args, **kwds))\n",
      "KeyboardInterrupt\n",
      "  File \"<ipython-input-2-d3a4c6595a95>\", line 23, in get_facet\n",
      "    c = [check_equiv_bell(bell, f, allowed_relabellings, dets) for f in curr_facets]\n",
      "  File \"<ipython-input-2-d3a4c6595a95>\", line 23, in <listcomp>\n",
      "    c = [check_equiv_bell(bell, f, allowed_relabellings, dets) for f in curr_facets]\n",
      "  File \"/home/chris/Documents/master_thesis/code/linear-bell/utils.py\", line 281, in check_equiv_bell\n",
      "    if check_diff_repr_same_ineq(bell1, bell2[perm], dets):\n",
      "  File \"/home/chris/anaconda3/envs/linear-bell/lib/python3.8/multiprocessing/process.py\", line 108, in run\n",
      "    self._target(*self._args, **self._kwargs)\n",
      "  File \"/home/chris/anaconda3/envs/linear-bell/lib/python3.8/site-packages/scipy/optimize/_linprog_simplex.py\", line 393, in _solve_simplex\n",
      "    pivcol_found, pivcol = _pivot_col(T, tol, bland)\n",
      "  File \"/home/chris/anaconda3/envs/linear-bell/lib/python3.8/multiprocessing/pool.py\", line 125, in worker\n",
      "    result = (True, func(*args, **kwds))\n",
      "  File \"/home/chris/anaconda3/envs/linear-bell/lib/python3.8/site-packages/scipy/optimize/_linprog_simplex.py\", line 89, in _pivot_col\n",
      "    ma = np.ma.masked_where(T[-1, :-1] >= -tol, T[-1, :-1], copy=False)\n",
      "  File \"/home/chris/anaconda3/envs/linear-bell/lib/python3.8/site-packages/numpy/ma/core.py\", line 1944, in masked_where\n",
      "    result.mask = _shrink_mask(cond)\n",
      "  File \"/home/chris/anaconda3/envs/linear-bell/lib/python3.8/multiprocessing/managers.py\", line 835, in _callmethod\n",
      "    kind, result = conn.recv()\n",
      "  File \"/home/chris/anaconda3/envs/linear-bell/lib/python3.8/site-packages/numpy/ma/core.py\", line 3517, in mask\n",
      "    self.__setmask__(value)\n",
      "  File \"/home/chris/Documents/master_thesis/code/linear-bell/utils.py\", line 232, in check_diff_repr_same_ineq\n",
      "    v1 = np.array([d @ bell1 for d in dets])\n",
      "  File \"/home/chris/anaconda3/envs/linear-bell/lib/python3.8/multiprocessing/connection.py\", line 250, in recv\n",
      "    buf = self._recv_bytes()\n",
      "  File \"<ipython-input-2-d3a4c6595a95>\", line 23, in get_facet\n",
      "    c = [check_equiv_bell(bell, f, allowed_relabellings, dets) for f in curr_facets]\n",
      "  File \"<ipython-input-2-d3a4c6595a95>\", line 23, in <listcomp>\n",
      "    c = [check_equiv_bell(bell, f, allowed_relabellings, dets) for f in curr_facets]\n",
      "  File \"/home/chris/Documents/master_thesis/code/linear-bell/utils.py\", line 232, in <listcomp>\n",
      "    v1 = np.array([d @ bell1 for d in dets])\n",
      "  File \"/home/chris/Documents/master_thesis/code/linear-bell/utils.py\", line 281, in check_equiv_bell\n",
      "    if check_diff_repr_same_ineq(bell1, bell2[perm], dets):\n",
      "  File \"/home/chris/anaconda3/envs/linear-bell/lib/python3.8/multiprocessing/connection.py\", line 414, in _recv_bytes\n",
      "    buf = self._recv(4)\n",
      "  File \"/home/chris/anaconda3/envs/linear-bell/lib/python3.8/site-packages/numpy/ma/core.py\", line 3463, in __setmask__\n",
      "    current_mask.flat = mask\n",
      "  File \"/home/chris/Documents/master_thesis/code/linear-bell/utils.py\", line 243, in check_diff_repr_same_ineq\n",
      "    if len(np.unique(v1)) == 1 or len(np.unique(v2)) == 1:\n",
      "  File \"/home/chris/anaconda3/envs/linear-bell/lib/python3.8/multiprocessing/connection.py\", line 379, in _recv\n",
      "    chunk = read(handle, remaining)\n",
      "KeyboardInterrupt\n",
      "  File \"<__array_function__ internals>\", line 5, in unique\n",
      "KeyboardInterrupt\n",
      "  File \"/home/chris/anaconda3/envs/linear-bell/lib/python3.8/site-packages/numpy/lib/arraysetops.py\", line 261, in unique\n",
      "    ret = _unique1d(ar, return_index, return_inverse, return_counts)\n",
      "KeyboardInterrupt\n",
      "  File \"/home/chris/anaconda3/envs/linear-bell/lib/python3.8/site-packages/numpy/lib/arraysetops.py\", line 324, in _unique1d\n",
      "    mask = np.empty(aux.shape, dtype=np.bool_)\n",
      "KeyboardInterrupt\n"
     ]
    },
    {
     "ename": "KeyboardInterrupt",
     "evalue": "",
     "output_type": "error",
     "traceback": [
      "\u001B[0;31m---------------------------------------------------------------------------\u001B[0m",
      "\u001B[0;31mKeyboardInterrupt\u001B[0m                         Traceback (most recent call last)",
      "\u001B[0;32m<ipython-input-3-2fad0ff7f5b4>\u001B[0m in \u001B[0;36m<module>\u001B[0;34m\u001B[0m\n\u001B[1;32m     16\u001B[0m \u001B[0;32mfor\u001B[0m \u001B[0mi\u001B[0m\u001B[0;34m,\u001B[0m\u001B[0mjob\u001B[0m \u001B[0;32min\u001B[0m \u001B[0menumerate\u001B[0m\u001B[0;34m(\u001B[0m\u001B[0mjobs\u001B[0m\u001B[0;34m)\u001B[0m\u001B[0;34m:\u001B[0m\u001B[0;34m\u001B[0m\u001B[0;34m\u001B[0m\u001B[0m\n\u001B[1;32m     17\u001B[0m     \u001B[0mprint\u001B[0m\u001B[0;34m(\u001B[0m\u001B[0;34m\"{} / {}\"\u001B[0m\u001B[0;34m.\u001B[0m\u001B[0mformat\u001B[0m\u001B[0;34m(\u001B[0m\u001B[0mi\u001B[0m\u001B[0;34m,\u001B[0m \u001B[0mlen\u001B[0m\u001B[0;34m(\u001B[0m\u001B[0mjobs\u001B[0m\u001B[0;34m)\u001B[0m\u001B[0;34m)\u001B[0m\u001B[0;34m)\u001B[0m\u001B[0;34m\u001B[0m\u001B[0;34m\u001B[0m\u001B[0m\n\u001B[0;32m---> 18\u001B[0;31m     \u001B[0mjob\u001B[0m\u001B[0;34m.\u001B[0m\u001B[0mget\u001B[0m\u001B[0;34m(\u001B[0m\u001B[0;34m)\u001B[0m\u001B[0;34m\u001B[0m\u001B[0;34m\u001B[0m\u001B[0m\n\u001B[0m\u001B[1;32m     19\u001B[0m \u001B[0;34m\u001B[0m\u001B[0m\n\u001B[1;32m     20\u001B[0m \u001B[0mwatcher_facets\u001B[0m\u001B[0;34m.\u001B[0m\u001B[0mget\u001B[0m\u001B[0;34m(\u001B[0m\u001B[0;34m)\u001B[0m\u001B[0;34m\u001B[0m\u001B[0;34m\u001B[0m\u001B[0m\n",
      "\u001B[0;32m~/anaconda3/envs/linear-bell/lib/python3.8/multiprocessing/pool.py\u001B[0m in \u001B[0;36mget\u001B[0;34m(self, timeout)\u001B[0m\n\u001B[1;32m    763\u001B[0m \u001B[0;34m\u001B[0m\u001B[0m\n\u001B[1;32m    764\u001B[0m     \u001B[0;32mdef\u001B[0m \u001B[0mget\u001B[0m\u001B[0;34m(\u001B[0m\u001B[0mself\u001B[0m\u001B[0;34m,\u001B[0m \u001B[0mtimeout\u001B[0m\u001B[0;34m=\u001B[0m\u001B[0;32mNone\u001B[0m\u001B[0;34m)\u001B[0m\u001B[0;34m:\u001B[0m\u001B[0;34m\u001B[0m\u001B[0;34m\u001B[0m\u001B[0m\n\u001B[0;32m--> 765\u001B[0;31m         \u001B[0mself\u001B[0m\u001B[0;34m.\u001B[0m\u001B[0mwait\u001B[0m\u001B[0;34m(\u001B[0m\u001B[0mtimeout\u001B[0m\u001B[0;34m)\u001B[0m\u001B[0;34m\u001B[0m\u001B[0;34m\u001B[0m\u001B[0m\n\u001B[0m\u001B[1;32m    766\u001B[0m         \u001B[0;32mif\u001B[0m \u001B[0;32mnot\u001B[0m \u001B[0mself\u001B[0m\u001B[0;34m.\u001B[0m\u001B[0mready\u001B[0m\u001B[0;34m(\u001B[0m\u001B[0;34m)\u001B[0m\u001B[0;34m:\u001B[0m\u001B[0;34m\u001B[0m\u001B[0;34m\u001B[0m\u001B[0m\n\u001B[1;32m    767\u001B[0m             \u001B[0;32mraise\u001B[0m \u001B[0mTimeoutError\u001B[0m\u001B[0;34m\u001B[0m\u001B[0;34m\u001B[0m\u001B[0m\n",
      "\u001B[0;32m~/anaconda3/envs/linear-bell/lib/python3.8/multiprocessing/pool.py\u001B[0m in \u001B[0;36mwait\u001B[0;34m(self, timeout)\u001B[0m\n\u001B[1;32m    760\u001B[0m \u001B[0;34m\u001B[0m\u001B[0m\n\u001B[1;32m    761\u001B[0m     \u001B[0;32mdef\u001B[0m \u001B[0mwait\u001B[0m\u001B[0;34m(\u001B[0m\u001B[0mself\u001B[0m\u001B[0;34m,\u001B[0m \u001B[0mtimeout\u001B[0m\u001B[0;34m=\u001B[0m\u001B[0;32mNone\u001B[0m\u001B[0;34m)\u001B[0m\u001B[0;34m:\u001B[0m\u001B[0;34m\u001B[0m\u001B[0;34m\u001B[0m\u001B[0m\n\u001B[0;32m--> 762\u001B[0;31m         \u001B[0mself\u001B[0m\u001B[0;34m.\u001B[0m\u001B[0m_event\u001B[0m\u001B[0;34m.\u001B[0m\u001B[0mwait\u001B[0m\u001B[0;34m(\u001B[0m\u001B[0mtimeout\u001B[0m\u001B[0;34m)\u001B[0m\u001B[0;34m\u001B[0m\u001B[0;34m\u001B[0m\u001B[0m\n\u001B[0m\u001B[1;32m    763\u001B[0m \u001B[0;34m\u001B[0m\u001B[0m\n\u001B[1;32m    764\u001B[0m     \u001B[0;32mdef\u001B[0m \u001B[0mget\u001B[0m\u001B[0;34m(\u001B[0m\u001B[0mself\u001B[0m\u001B[0;34m,\u001B[0m \u001B[0mtimeout\u001B[0m\u001B[0;34m=\u001B[0m\u001B[0;32mNone\u001B[0m\u001B[0;34m)\u001B[0m\u001B[0;34m:\u001B[0m\u001B[0;34m\u001B[0m\u001B[0;34m\u001B[0m\u001B[0m\n",
      "\u001B[0;32m~/anaconda3/envs/linear-bell/lib/python3.8/threading.py\u001B[0m in \u001B[0;36mwait\u001B[0;34m(self, timeout)\u001B[0m\n\u001B[1;32m    556\u001B[0m             \u001B[0msignaled\u001B[0m \u001B[0;34m=\u001B[0m \u001B[0mself\u001B[0m\u001B[0;34m.\u001B[0m\u001B[0m_flag\u001B[0m\u001B[0;34m\u001B[0m\u001B[0;34m\u001B[0m\u001B[0m\n\u001B[1;32m    557\u001B[0m             \u001B[0;32mif\u001B[0m \u001B[0;32mnot\u001B[0m \u001B[0msignaled\u001B[0m\u001B[0;34m:\u001B[0m\u001B[0;34m\u001B[0m\u001B[0;34m\u001B[0m\u001B[0m\n\u001B[0;32m--> 558\u001B[0;31m                 \u001B[0msignaled\u001B[0m \u001B[0;34m=\u001B[0m \u001B[0mself\u001B[0m\u001B[0;34m.\u001B[0m\u001B[0m_cond\u001B[0m\u001B[0;34m.\u001B[0m\u001B[0mwait\u001B[0m\u001B[0;34m(\u001B[0m\u001B[0mtimeout\u001B[0m\u001B[0;34m)\u001B[0m\u001B[0;34m\u001B[0m\u001B[0;34m\u001B[0m\u001B[0m\n\u001B[0m\u001B[1;32m    559\u001B[0m             \u001B[0;32mreturn\u001B[0m \u001B[0msignaled\u001B[0m\u001B[0;34m\u001B[0m\u001B[0;34m\u001B[0m\u001B[0m\n\u001B[1;32m    560\u001B[0m \u001B[0;34m\u001B[0m\u001B[0m\n",
      "\u001B[0;32m~/anaconda3/envs/linear-bell/lib/python3.8/threading.py\u001B[0m in \u001B[0;36mwait\u001B[0;34m(self, timeout)\u001B[0m\n\u001B[1;32m    300\u001B[0m         \u001B[0;32mtry\u001B[0m\u001B[0;34m:\u001B[0m    \u001B[0;31m# restore state no matter what (e.g., KeyboardInterrupt)\u001B[0m\u001B[0;34m\u001B[0m\u001B[0;34m\u001B[0m\u001B[0m\n\u001B[1;32m    301\u001B[0m             \u001B[0;32mif\u001B[0m \u001B[0mtimeout\u001B[0m \u001B[0;32mis\u001B[0m \u001B[0;32mNone\u001B[0m\u001B[0;34m:\u001B[0m\u001B[0;34m\u001B[0m\u001B[0;34m\u001B[0m\u001B[0m\n\u001B[0;32m--> 302\u001B[0;31m                 \u001B[0mwaiter\u001B[0m\u001B[0;34m.\u001B[0m\u001B[0macquire\u001B[0m\u001B[0;34m(\u001B[0m\u001B[0;34m)\u001B[0m\u001B[0;34m\u001B[0m\u001B[0;34m\u001B[0m\u001B[0m\n\u001B[0m\u001B[1;32m    303\u001B[0m                 \u001B[0mgotit\u001B[0m \u001B[0;34m=\u001B[0m \u001B[0;32mTrue\u001B[0m\u001B[0;34m\u001B[0m\u001B[0;34m\u001B[0m\u001B[0m\n\u001B[1;32m    304\u001B[0m             \u001B[0;32melse\u001B[0m\u001B[0;34m:\u001B[0m\u001B[0;34m\u001B[0m\u001B[0;34m\u001B[0m\u001B[0m\n",
      "\u001B[0;31mKeyboardInterrupt\u001B[0m: "
     ]
    }
   ],
   "source": [
    "import multiprocessing as mp\n",
    "manager = mp.Manager()\n",
    "facet_q = manager.Queue()\n",
    "extremal_q = manager.Queue()\n",
    "pool = mp.Pool(mp.cpu_count() + 2)\n",
    "# setup watchers\n",
    "watcher_facets = pool.apply_async(facet_writer, (facet_q,))\n",
    "watcher_extremals = pool.apply_async(extremal_writer, (extremal_q,))\n",
    "\n",
    "# start workers\n",
    "jobs = []\n",
    "for e in extremals:\n",
    "    job = pool.apply_async(get_facet, (e,facet_q, extremal_q))\n",
    "    jobs.append(job)\n",
    "# run the jobs\n",
    "for i,job in enumerate(jobs):\n",
    "    print(\"{} / {}\".format(i, len(jobs)))\n",
    "    job.get()\n",
    "\n",
    "watcher_facets.get()\n",
    "watcher_extremals.get()\n",
    "facet_q.put('kill')\n",
    "extremal_q.put('kill')\n",
    "pool.close()\n",
    "pool.join()"
   ],
   "metadata": {
    "collapsed": false,
    "pycharm": {
     "name": "#%%\n"
    }
   }
  },
  {
   "cell_type": "markdown",
   "source": [
    "Now we can start running the Parallel operation for iterating through the new points found.\n",
    "You can kill all the processe by 'sudo pkill -9 python'."
   ],
   "metadata": {
    "collapsed": false,
    "pycharm": {
     "name": "#%% md\n"
    }
   }
  },
  {
   "cell_type": "markdown",
   "source": [
    "### TODO: Have to create the things with epsilon here. Just stored equalizing dets before."
   ],
   "metadata": {
    "collapsed": false,
    "pycharm": {
     "name": "#%% md\n"
    }
   }
  },
  {
   "cell_type": "code",
   "execution_count": null,
   "outputs": [],
   "source": [
    "manager = mp.Manager()\n",
    "facet_q = manager.Queue()\n",
    "pool = mp.Pool(mp.cpu_count() + 2)\n",
    "\n",
    "extremals = np.loadtxt(extremals_file)\n",
    "extremals = extremals[:1]\n",
    "\n",
    "# start the worker for writing facets\n",
    "watcher = pool.apply_async(facet_writer, (facet_q,))\n",
    "# start workers\n",
    "jobs = []\n",
    "for e in extremals:\n",
    "    job = pool.apply_async(get_facet, (e, facet_q, False))\n",
    "    jobs.append(job)\n",
    "for job in jobs:\n",
    "    x = job.get()\n",
    "\n",
    "# stop the facet writer with kill command\n",
    "facet_q.put('kill')\n",
    "pool.close()\n",
    "pool.join()\n",
    "\n",
    "\n"
   ],
   "metadata": {
    "collapsed": false,
    "pycharm": {
     "name": "#%%\n"
    }
   }
  }
 ],
 "metadata": {
  "kernelspec": {
   "display_name": "Python 3",
   "language": "python",
   "name": "python3"
  },
  "language_info": {
   "codemirror_mode": {
    "name": "ipython",
    "version": 2
   },
   "file_extension": ".py",
   "mimetype": "text/x-python",
   "name": "python",
   "nbconvert_exporter": "python",
   "pygments_lexer": "ipython2",
   "version": "2.7.6"
  }
 },
 "nbformat": 4,
 "nbformat_minor": 0
}