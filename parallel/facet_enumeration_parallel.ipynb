{
 "cells": [
  {
   "cell_type": "markdown",
   "metadata": {
    "collapsed": true,
    "pycharm": {
     "name": "#%% md\n"
    }
   },
   "source": [
    "# Enumerate Facet inequalities for a given number of inputs and binary outputs\n",
    "Here I want to implement an algorithm, to find all facet inequalities for a given number of inputs and binary outputs.\n",
    "This follows the construction of *Algorithm 1* in the paper [*Bell inequalities from no-signalling distribution*, *Cope & Colbeck (2019)*](https://arxiv.org/abs/1812.10017).\n",
    "\n",
    "First we set the number of inputs and outputs and obtain the extremal points for the specific NS polytope."
   ]
  },
  {
   "cell_type": "code",
   "execution_count": 5,
   "outputs": [],
   "source": [
    "from src.utils import extremal_ns_binary_vertices, get_deterministic_behaviors, get_allowed_relabellings\n",
    "import numpy as np\n",
    "from src.utils import find_local_weight, facet_inequality_check, check_equiv_bell\n",
    "from itertools import product\n",
    "# set inputs / outputs\n",
    "inputs_a = range(3)\n",
    "inputs_b = range(3)\n",
    "outputs = range(2)\n",
    "\n",
    "# files where to store the facets and equalizing deterministics for later\n",
    "facets_file = '../data/facets/{}{}{}{}.txt'.format(len(inputs_a), len(inputs_b), len(outputs), len(outputs))\n",
    "eq_dets_file = '../data/equalizing_deterministics/{}{}{}{}.txt'.format(len(inputs_a), len(inputs_b), len(outputs), len(outputs))\n",
    "# get extremal points\n",
    "extremals = extremal_ns_binary_vertices(inputs_a, inputs_b, outputs)\n",
    "\n",
    "# get deterministic points\n",
    "dets = get_deterministic_behaviors(inputs_a, inputs_b, outputs)\n",
    "\n",
    "# get allowed relabellings\n",
    "allowed_relabellings = get_allowed_relabellings(inputs_a, inputs_b, outputs, outputs)\n",
    "\n",
    "# options for local weight optimizer (bland is only needed for higher dimensions (m_a , m_b > 4)\n",
    "options = {\"disp\": False, \"maxiter\": 5000, \"bland\": True}\n",
    "method='simplex'\n",
    "\n",
    "# open files to create them\n",
    "f = open(facets_file, 'a+')\n",
    "f.close()\n",
    "f = open(eq_dets_file, 'a+')\n",
    "f.close()"
   ],
   "metadata": {
    "collapsed": false,
    "pycharm": {
     "name": "#%%\n"
    }
   }
  },
  {
   "cell_type": "markdown",
   "source": [
    "Define functions for parallel execution."
   ],
   "metadata": {
    "collapsed": false,
    "pycharm": {
     "name": "#%% md\n"
    }
   }
  },
  {
   "cell_type": "code",
   "execution_count": 6,
   "outputs": [],
   "source": [
    "def get_string_from_numpy_array(arr):\n",
    "    s = \"\"\n",
    "    for x in arr:\n",
    "        s += \"%.18e\" % x\n",
    "        s += \" \"\n",
    "    s = s[:-1]\n",
    "    s += \"\\n\"\n",
    "    return s\n",
    "\n",
    "def get_facet(extremal, facet_q, eqdets_q):\n",
    "    # read current facets from file -> does not work with np.loadtxt\n",
    "    lines = open(facets_file).readlines()\n",
    "    curr_facets = []\n",
    "    for line in lines:\n",
    "        f = [float(x) for x in line.split(' ')]\n",
    "        curr_facets.append(f)\n",
    "    curr_facets = np.array(curr_facets)\n",
    "    # calculate local weight\n",
    "    _ , bell_exp = find_local_weight(extremal, dets, method=method, options=options)\n",
    "    # check if there is a facet\n",
    "    isf, bell, eq_dets = facet_inequality_check(dets, bell_exp, len(inputs_a), len(inputs_b), len(outputs))\n",
    "    if isf:\n",
    "        c = [check_equiv_bell(bell, f, allowed_relabellings, dets) for f in curr_facets]\n",
    "        if True in c: isf = False\n",
    "    # write equalizing dets to equalizing dets file\n",
    "    if eqdets_q:\n",
    "        for eq_det in eq_dets:\n",
    "            s = get_string_from_numpy_array(eq_det)\n",
    "            eqdets_q.put(s)\n",
    "        eqdets_q.put('+++++ \\n')\n",
    "    # if it's a facet, write facet to facet writer\n",
    "    if isf:\n",
    "        s = get_string_from_numpy_array(bell)\n",
    "        # append string of facet to queue\n",
    "        facet_q.put(s)\n",
    "    return True\n",
    "\n",
    "def facet_writer(queue):\n",
    "    print('Facet writer started')\n",
    "    new_facet = None\n",
    "    # load current facets\n",
    "    with open(facets_file, 'a+') as out:\n",
    "        # infinity loop only stopped when kill is read\n",
    "        while True:\n",
    "            m = queue.get()\n",
    "            # stop when kill is received\n",
    "            if m == 'kill':\n",
    "                print('facet writer killed')\n",
    "                break\n",
    "            # check if the facet that should be written was the last facet found\n",
    "            # maybe the facet worker did not read it from the file yet\n",
    "            # Maybe you can add here multiple new_facets if you have more workers available\n",
    "            if new_facet:\n",
    "                # get the facet from the string\n",
    "                f1 = np.array([[float(r) for r in m[:-2].split(' ')]])\n",
    "                # check if the received facet is equal to the last newly found facet\n",
    "                if not check_equiv_bell(new_facet, f1,allowed_relabellings,dets):\n",
    "                    # if not\n",
    "                    out.write(m)\n",
    "                    out.flush()\n",
    "                    new_facet = f1\n",
    "                    print('wrote facet: {}'.format(new_facet))\n",
    "            # if there is no new facet yet found\n",
    "            if not new_facet:\n",
    "                out.write(m)\n",
    "                out.flush()\n",
    "                new_facet = np.array([float(r) for r in m[:-2].split(' ')])\n",
    "                print('wrote facet: {}'.format(new_facet))\n",
    "def eqdets_writer(queue):\n",
    "    print('Extremal Writer Started')\n",
    "    with open(eq_dets_file, 'a+') as out:\n",
    "        while True:\n",
    "            m = queue.get()\n",
    "            if m == 'kill':\n",
    "                print('extremal writer killed')\n",
    "                break\n",
    "            out.write(m)\n",
    "            out.flush()"
   ],
   "metadata": {
    "collapsed": false,
    "pycharm": {
     "name": "#%%\n"
    }
   }
  },
  {
   "cell_type": "markdown",
   "source": [
    "Parallelize the iteration through the extremal points of NS. Find facet inequalities while doing so and form the\n",
    "new behaviors to test. Store facets and new behaviors for later testing."
   ],
   "metadata": {
    "collapsed": false,
    "pycharm": {
     "name": "#%% md\n"
    }
   }
  },
  {
   "cell_type": "code",
   "execution_count": 7,
   "outputs": [
    {
     "name": "stdout",
     "output_type": "stream",
     "text": [
      "Facet writer started\n",
      "Extremal Writer Started\n",
      "0 / 8\n",
      "wrote facet: [0. 0. 0. 0. 1. 0. 0. 0. 0. 1. 1. 0. 1. 0. 0. 0. 0. 0. 1. 1. 0. 1. 0. 0.\n",
      " 0. 0. 0. 0. 0. 0. 0. 1. 0. 0. 0. 0.]\n",
      "1 / 8\n",
      "2 / 8\n",
      "3 / 8\n",
      "4 / 8\n",
      "5 / 8\n",
      "6 / 8\n",
      "extremal writer killed\n",
      "7 / 8\n"
     ]
    }
   ],
   "source": [
    "import multiprocessing as mp\n",
    "manager = mp.Manager()\n",
    "facet_q = manager.Queue()\n",
    "extremal_q = manager.Queue()\n",
    "pool = mp.Pool(mp.cpu_count() + 2)\n",
    "# setup watchers\n",
    "watcher_facets = pool.apply_async(facet_writer, (facet_q,))\n",
    "watcher_eqdets = pool.apply_async(eqdets_writer, (extremal_q,))\n",
    "\n",
    "# start workers\n",
    "jobs = []\n",
    "for e in extremals:\n",
    "    job = pool.apply_async(get_facet, (e,facet_q, extremal_q))\n",
    "    jobs.append(job)\n",
    "# run the jobs\n",
    "for i,job in enumerate(jobs):\n",
    "    print(\"{} / {}\".format(i, len(jobs)))\n",
    "    job.get()\n",
    "\n",
    "facet_q.put('kill')\n",
    "extremal_q.put('kill')\n",
    "pool.close()\n",
    "pool.join()"
   ],
   "metadata": {
    "collapsed": false,
    "pycharm": {
     "name": "#%%\n"
    }
   }
  },
  {
   "cell_type": "markdown",
   "source": [
    "Now we can start running the Parallel operation for iterating through the new points found.\n",
    "You can kill all the processe by 'sudo pkill -9 python'."
   ],
   "metadata": {
    "collapsed": false,
    "pycharm": {
     "name": "#%% md\n"
    }
   }
  },
  {
   "cell_type": "markdown",
   "source": [
    "### TODO: Have to create the things with epsilon here. Just stored equalizing dets before."
   ],
   "metadata": {
    "collapsed": false,
    "pycharm": {
     "name": "#%% md\n"
    }
   }
  },
  {
   "cell_type": "code",
   "execution_count": null,
   "outputs": [
    {
     "name": "stdout",
     "output_type": "stream",
     "text": [
      "Facet writer started\n",
      "0 / 21972\n",
      "1000 / 21972\n",
      "2000 / 21972\n"
     ]
    }
   ],
   "source": [
    "import multiprocessing as mp\n",
    "\n",
    "# set the epsilons that we want to use\n",
    "epsilons = np.linspace(1/3,2/3, num=3)\n",
    "\n",
    "# eq_dets_file\n",
    "eq_dets_file = '../data/equalizing_deterministics/3322.txt'\n",
    "facets_file = '../data/facets/3322.txt'\n",
    "\n",
    "# setup parallel environment\n",
    "manager = mp.Manager()\n",
    "facet_q = manager.Queue()\n",
    "pool = mp.Pool(mp.cpu_count() + 2)\n",
    "\n",
    "# load the equalizing dets\n",
    "f = open(eq_dets_file,'r')\n",
    "lines = f.readlines()\n",
    "# Take the first set of equalizing deterministics\n",
    "eqdets = []\n",
    "behaviors = []\n",
    "extremal_counter = 0\n",
    "for i, line in enumerate(lines):\n",
    "    if '+++' not in line:\n",
    "        arr = np.array([float(r) for r in line[:-2].split(' ')])\n",
    "        eqdets.append(arr)\n",
    "    else:\n",
    "        eqdets = np.array(eqdets)\n",
    "        for j,k in product(range(eqdets.shape[0]),repeat=2):\n",
    "            if j == k: continue\n",
    "            for eps in epsilons:\n",
    "                b = (1-3*eps/2)*extremals[extremal_counter] + eps * eqdets[j] + eps/2 * eqdets[k]\n",
    "                behaviors.append(b)\n",
    "        extremal_counter += 1\n",
    "        eqdets = []\n",
    "\n",
    "# start the worker for writing facets\n",
    "watcher = pool.apply_async(facet_writer, (facet_q,))\n",
    "# start workers\n",
    "jobs = []\n",
    "for e in behaviors:\n",
    "    job = pool.apply_async(get_facet, (e, facet_q, False))\n",
    "    jobs.append(job)\n",
    "for l,job in enumerate(jobs):\n",
    "    if l % 1000 == 0:\n",
    "        print('{} / {}'.format(l,len(jobs)))\n",
    "    x = job.get()\n",
    "\n",
    "# stop the facet writer with kill command\n",
    "facet_q.put('kill')\n",
    "pool.close()\n",
    "pool.join()"
   ],
   "metadata": {
    "collapsed": false,
    "pycharm": {
     "name": "#%%\n",
     "is_executing": true
    }
   }
  },
  {
   "cell_type": "code",
   "execution_count": null,
   "outputs": [],
   "source": [],
   "metadata": {
    "collapsed": false,
    "pycharm": {
     "name": "#%%\n",
     "is_executing": true
    }
   }
  }
 ],
 "metadata": {
  "kernelspec": {
   "display_name": "Python 3",
   "language": "python",
   "name": "python3"
  },
  "language_info": {
   "codemirror_mode": {
    "name": "ipython",
    "version": 2
   },
   "file_extension": ".py",
   "mimetype": "text/x-python",
   "name": "python",
   "nbconvert_exporter": "python",
   "pygments_lexer": "ipython2",
   "version": "2.7.6"
  }
 },
 "nbformat": 4,
 "nbformat_minor": 0
}