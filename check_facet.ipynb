{
 "cells": [
  {
   "cell_type": "markdown",
   "metadata": {
    "collapsed": true,
    "pycharm": {
     "name": "#%% md\n"
    }
   },
   "source": [
    "# Arbitrary number of inputs with binary outcome\n",
    "\n",
    "Here where are testing the linear algorithm, that we previously used for a binary input / binary output case on an\n",
    "arbitrary number of inputs / binary output case. As a non-local probability distribution we will use the *generalised\n",
    "PR-box*.\n",
    "\n",
    "Furthermore we will extend the number of outputs to 3, to simulate detectors with finite efficiency."
   ]
  },
  {
   "cell_type": "code",
   "execution_count": 6,
   "outputs": [],
   "source": [
    "from itertools import product\n",
    "inputs_a = range(2)\n",
    "inputs_b = range(2)\n",
    "outputs = range(2)\n",
    "dim = (len(outputs)**2) * (len(inputs_a)*len(inputs_b))\n",
    "# a list of all possible input and output combinations\n",
    "output_input_combs = product(outputs, outputs, inputs_a, inputs_b)"
   ],
   "metadata": {
    "collapsed": false,
    "pycharm": {
     "name": "#%%\n"
    }
   }
  },
  {
   "cell_type": "markdown",
   "source": [
    "# Generalised PR Box\n",
    "We are now taking the generalised PR box distribution and find a Bell inequality that it violates."
   ],
   "metadata": {
    "collapsed": false,
    "pycharm": {
     "name": "#%% md\n"
    }
   }
  },
  {
   "cell_type": "code",
   "execution_count": 7,
   "outputs": [
    {
     "name": "stdout",
     "output_type": "stream",
     "text": [
      "S = s*p - S_l = 0.9999999992617141\n"
     ]
    }
   ],
   "source": [
    "from utils import general_pr_box, get_deterministic_behaviors, find_bell_inequality\n",
    "import numpy as np\n",
    "from scipy.optimize import linprog\n",
    "\n",
    "# define the behavior corresponding to the Bell inequality\n",
    "p = np.array([general_pr_box(*c) for c in output_input_combs])\n",
    "#p = np.array([1/(len(outputs)**2) for c in output_input_combs])\n",
    "\n",
    "assert p.shape[0] == dim\n",
    "\n",
    "# get the deterministic behaviors for this case\n",
    "dets = get_deterministic_behaviors(inputs_a, inputs_b, outputs)\n",
    "\n",
    "# find a bell inequality\n",
    "opt, s, sl = find_bell_inequality(p, dets)\n",
    "\n",
    "print('S = s*p - S_l = {}'.format(s@p-sl))"
   ],
   "metadata": {
    "collapsed": false,
    "pycharm": {
     "name": "#%%\n"
    }
   }
  },
  {
   "cell_type": "markdown",
   "source": [
    "We find that the PR-box behavior fulfills  $S > 0$. Thus it is non-local!\n",
    "\n",
    "# Check the local weight of the distribution p"
   ],
   "metadata": {
    "collapsed": false,
    "pycharm": {
     "name": "#%% md\n"
    }
   }
  },
  {
   "cell_type": "code",
   "execution_count": 8,
   "outputs": [
    {
     "name": "stdout",
     "output_type": "stream",
     "text": [
      "1.14285090316419e-09\n"
     ]
    }
   ],
   "source": [
    "from utils import find_local_weight\n",
    "\n",
    "opt, bell_expression = find_local_weight(p, dets, method='revised-simplex')\n",
    "print(bell_expression @ p)"
   ],
   "metadata": {
    "collapsed": false,
    "pycharm": {
     "name": "#%%\n"
    }
   }
  },
  {
   "cell_type": "markdown",
   "source": [
    "**TODO**: Write something on the local weight\n",
    "\n",
    "## Facet check\n",
    "Check if we have found a facet inequality."
   ],
   "metadata": {
    "collapsed": false,
    "pycharm": {
     "name": "#%% md\n"
    }
   }
  },
  {
   "cell_type": "code",
   "execution_count": 9,
   "outputs": [
    {
     "name": "stdout",
     "output_type": "stream",
     "text": [
      "The inequality is a facet: True\n"
     ]
    }
   ],
   "source": [
    "from utils import facet_inequality_check\n",
    "\n",
    "is_facet, scaled_bell_expression = facet_inequality_check(dets, bell_expression, len(inputs_a), len(inputs_b), len(outputs))\n",
    "print('The inequality is a facet: {}'.format(is_facet))"
   ],
   "metadata": {
    "collapsed": false,
    "pycharm": {
     "name": "#%%\n"
    }
   }
  },
  {
   "cell_type": "markdown",
   "source": [
    "Thus we have found a facet inequality. Yuhu!\n",
    "\n"
   ],
   "metadata": {
    "collapsed": false,
    "pycharm": {
     "name": "#%% md\n"
    }
   }
  }
 ],
 "metadata": {
  "kernelspec": {
   "display_name": "Python 3",
   "language": "python",
   "name": "python3"
  },
  "language_info": {
   "codemirror_mode": {
    "name": "ipython",
    "version": 2
   },
   "file_extension": ".py",
   "mimetype": "text/x-python",
   "name": "python",
   "nbconvert_exporter": "python",
   "pygments_lexer": "ipython2",
   "version": "2.7.6"
  }
 },
 "nbformat": 4,
 "nbformat_minor": 0
}