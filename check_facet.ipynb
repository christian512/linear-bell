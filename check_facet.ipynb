{
 "cells": [
  {
   "cell_type": "markdown",
   "metadata": {
    "collapsed": true,
    "pycharm": {
     "name": "#%% md\n"
    }
   },
   "source": [
    "# Arbitrary number of inputs with binary outcome\n",
    "\n",
    "Here where are testing the linear algorithm, that we previously used for a binary input / binary output case on an\n",
    "arbitrary number of inputs / binary output case. As a non-local probability distribution we will use the *generalised\n",
    "PR-box*.\n",
    "\n",
    "Furthermore we will extend the number of outputs to 3, to simulate detectors with finite efficiency."
   ]
  },
  {
   "cell_type": "code",
   "execution_count": 21,
   "outputs": [],
   "source": [
    "from itertools import product\n",
    "inputs_a = range(3)\n",
    "inputs_b = range(3)\n",
    "outputs = range(2)\n",
    "dim = (len(outputs)**2) * (len(inputs_a)*len(inputs_b))\n",
    "# a list of all possible input and output combinations\n",
    "output_input_combs = product(outputs, outputs, inputs_a, inputs_b)"
   ],
   "metadata": {
    "collapsed": false,
    "pycharm": {
     "name": "#%%\n"
    }
   }
  },
  {
   "cell_type": "markdown",
   "source": [
    "# Generalised PR Box\n",
    "We are now taking the generalised PR box distribution and find a Bell inequality that it violates."
   ],
   "metadata": {
    "collapsed": false,
    "pycharm": {
     "name": "#%% md\n"
    }
   }
  },
  {
   "cell_type": "code",
   "execution_count": 22,
   "outputs": [
    {
     "name": "stdout",
     "output_type": "stream",
     "text": [
      "S = s*p - S_l = 1.750966038827073e-11\n"
     ]
    }
   ],
   "source": [
    "from utils import general_pr_box, get_deterministic_behaviors, find_bell_inequality\n",
    "import numpy as np\n",
    "from scipy.optimize import linprog\n",
    "\n",
    "# define the behavior corresponding to the Bell inequality\n",
    "#p = np.array([general_pr_box(*c) for c in output_input_combs])\n",
    "p = np.array([1/(len(outputs)**2) for c in output_input_combs])\n",
    "\n",
    "assert p.shape[0] == dim\n",
    "\n",
    "# get the deterministic behaviors for this case\n",
    "dets = get_deterministic_behaviors(inputs_a, inputs_b, outputs)\n",
    "\n",
    "# find a bell inequality\n",
    "opt, s, sl = find_bell_inequality(p, dets)\n",
    "\n",
    "print('S = s*p - S_l = {}'.format(s@p-sl))"
   ],
   "metadata": {
    "collapsed": false,
    "pycharm": {
     "name": "#%%\n"
    }
   }
  },
  {
   "cell_type": "markdown",
   "source": [
    "We find that the PR-box behavior fulfills  $S > 0$. Thus it is non-local!\n",
    "\n",
    "# Check the local weight of the distribution p"
   ],
   "metadata": {
    "collapsed": false,
    "pycharm": {
     "name": "#%% md\n"
    }
   }
  },
  {
   "cell_type": "code",
   "execution_count": 23,
   "outputs": [
    {
     "name": "stdout",
     "output_type": "stream",
     "text": [
      "1.000000000000656\n"
     ]
    },
    {
     "name": "stderr",
     "output_type": "stream",
     "text": [
      "/home/chris/Documents/master_thesis/code/linear-bell/utils.py:155: OptimizeWarning: Solving system with option 'cholesky':True failed. It is normal for this to happen occasionally, especially as the solution is approached. However, if you see this frequently, consider setting option 'cholesky' to False.\n",
      "  opt = linprog(c=obj, A_ub=lhs_ineq, b_ub=rhs_ineq)\n",
      "/home/chris/Documents/master_thesis/code/linear-bell/utils.py:155: OptimizeWarning: Solving system with option 'sym_pos':True failed. It is normal for this to happen occasionally, especially as the solution is approached. However, if you see this frequently, consider setting option 'sym_pos' to False.\n",
      "  opt = linprog(c=obj, A_ub=lhs_ineq, b_ub=rhs_ineq)\n",
      "/home/chris/anaconda3/envs/linear-bell/lib/python3.8/site-packages/scipy/optimize/_linprog_ip.py:116: LinAlgWarning: Ill-conditioned matrix (rcond=2.70729e-19): result may not be accurate.\n",
      "  return sp.linalg.solve(M, r, sym_pos=sym_pos)\n"
     ]
    }
   ],
   "source": [
    "from utils import find_local_weight\n",
    "\n",
    "opt, bell_expression = find_local_weight(p, dets,method='simplex')\n",
    "print(bell_expression @ p)"
   ],
   "metadata": {
    "collapsed": false,
    "pycharm": {
     "name": "#%%\n"
    }
   }
  },
  {
   "cell_type": "markdown",
   "source": [
    "**TODO**: Write something on the local weight\n",
    "\n",
    "## Facet check\n",
    "Check if we have found a facet inequality."
   ],
   "metadata": {
    "collapsed": false,
    "pycharm": {
     "name": "#%% md\n"
    }
   }
  },
  {
   "cell_type": "code",
   "execution_count": 24,
   "outputs": [
    {
     "name": "stdout",
     "output_type": "stream",
     "text": [
      "1.0000000000006568\n",
      "1.0000000000006555\n",
      "1.000000000000655\n",
      "1.0000000000006537\n",
      "1.0000000000006573\n",
      "1.000000000000656\n",
      "1.0000000000006555\n",
      "1.0000000000006541\n",
      "1.000000000000661\n",
      "1.0000000000006606\n",
      "1.0000000000006588\n",
      "1.0000000000006581\n",
      "1.000000000000663\n",
      "1.0000000000006624\n",
      "1.0000000000006608\n",
      "1.00000000000066\n",
      "1.000000000000652\n",
      "1.000000000000654\n",
      "1.0000000000006528\n",
      "1.000000000000655\n",
      "1.0000000000006537\n",
      "1.000000000000656\n",
      "1.0000000000006546\n",
      "1.0000000000006568\n",
      "1.0000000000006564\n",
      "1.000000000000659\n",
      "1.0000000000006566\n",
      "1.0000000000006595\n",
      "1.0000000000006595\n",
      "1.0000000000006624\n",
      "1.00000000000066\n",
      "1.0000000000006626\n",
      "1.0000000000006553\n",
      "1.0000000000006537\n",
      "1.0000000000006528\n",
      "1.0000000000006515\n",
      "1.0000000000006544\n",
      "1.0000000000006528\n",
      "1.000000000000652\n",
      "1.0000000000006506\n",
      "1.0000000000006595\n",
      "1.0000000000006588\n",
      "1.0000000000006568\n",
      "1.000000000000656\n",
      "1.00000000000066\n",
      "1.0000000000006593\n",
      "1.0000000000006573\n",
      "1.0000000000006564\n",
      "1.0000000000006504\n",
      "1.0000000000006524\n",
      "1.0000000000006508\n",
      "1.0000000000006526\n",
      "1.0000000000006508\n",
      "1.0000000000006528\n",
      "1.000000000000651\n",
      "1.0000000000006533\n",
      "1.0000000000006548\n",
      "1.0000000000006575\n",
      "1.0000000000006546\n",
      "1.0000000000006573\n",
      "1.0000000000006566\n",
      "1.0000000000006593\n",
      "1.0000000000006564\n",
      "1.000000000000659\n"
     ]
    }
   ],
   "source": [
    "from utils import facet_inequality_check\n",
    "\n",
    "eq_dets = facet_inequality_check(dets, bell_expression, sl)"
   ],
   "metadata": {
    "collapsed": false,
    "pycharm": {
     "name": "#%%\n"
    }
   }
  },
  {
   "cell_type": "markdown",
   "source": [
    "Seems like it is not facet bell inequality. So we have to look further.\n",
    "For a local behavior the local weight distirbution definitely finds\n",
    "that all the wheight are one. However for the PR-box example it can not find\n",
    "one local behavior that equalizes the inequality. Why is that?"
   ],
   "metadata": {
    "collapsed": false,
    "pycharm": {
     "name": "#%% md\n"
    }
   }
  }
 ],
 "metadata": {
  "kernelspec": {
   "display_name": "Python 3",
   "language": "python",
   "name": "python3"
  },
  "language_info": {
   "codemirror_mode": {
    "name": "ipython",
    "version": 2
   },
   "file_extension": ".py",
   "mimetype": "text/x-python",
   "name": "python",
   "nbconvert_exporter": "python",
   "pygments_lexer": "ipython2",
   "version": "2.7.6"
  }
 },
 "nbformat": 4,
 "nbformat_minor": 0
}