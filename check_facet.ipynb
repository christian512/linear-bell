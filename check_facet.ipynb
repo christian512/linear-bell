{
 "cells": [
  {
   "cell_type": "markdown",
   "metadata": {
    "collapsed": true,
    "pycharm": {
     "name": "#%% md\n"
    }
   },
   "source": [
    "# Checking for a facet inequality\n",
    "\n",
    "Here we are going to check if a *Bell expression*, that we've found via the *local weight*, is a *facet inequality* of\n",
    "the local polytope. For simplification, we use the 2 inputs / 2 outputs case for each party. There is only one class of\n",
    "facet inequalities and the extremal non-local vertex of the no-signalling set is the PR box."
   ]
  },
  {
   "cell_type": "code",
   "execution_count": 6,
   "outputs": [],
   "source": [
    "from itertools import product\n",
    "inputs_a = range(2)\n",
    "inputs_b = range(2)\n",
    "outputs = range(2)\n",
    "dim = (len(outputs)**2) * (len(inputs_a)*len(inputs_b))\n",
    "# a list of all possible input and output combinations\n",
    "output_input_combs = product(outputs, outputs, inputs_a, inputs_b)"
   ],
   "metadata": {
    "collapsed": false,
    "pycharm": {
     "name": "#%%\n"
    }
   }
  },
  {
   "cell_type": "markdown",
   "source": [
    "### Generalised PR Box\n",
    "We are now taking the generalised PR box distribution and check that it violates a Bell inequality."
   ],
   "metadata": {
    "collapsed": false,
    "pycharm": {
     "name": "#%% md\n"
    }
   }
  },
  {
   "cell_type": "code",
   "execution_count": 7,
   "outputs": [
    {
     "name": "stdout",
     "output_type": "stream",
     "text": [
      "S = s*p - S_l = 0.9999999992617141\n"
     ]
    }
   ],
   "source": [
    "from utils import general_pr_box, get_deterministic_behaviors, find_bell_inequality\n",
    "import numpy as np\n",
    "from scipy.optimize import linprog\n",
    "\n",
    "# define the behavior corresponding to the Bell inequality\n",
    "p = np.array([general_pr_box(*c) for c in output_input_combs])\n",
    "\n",
    "assert p.shape[0] == dim\n",
    "\n",
    "# get the deterministic behaviors for this case\n",
    "dets = get_deterministic_behaviors(inputs_a, inputs_b, outputs)\n",
    "\n",
    "# find a bell inequality\n",
    "opt, s, sl = find_bell_inequality(p, dets)\n",
    "\n",
    "print('S = s*p - S_l = {}'.format(s@p-sl))"
   ],
   "metadata": {
    "collapsed": false,
    "pycharm": {
     "name": "#%%\n"
    }
   }
  },
  {
   "cell_type": "markdown",
   "source": [
    "We find that the PR-box behavior fulfills  $S > 0$. Thus it is non-local!\n",
    "\n",
    "### Local weight\n",
    "\n",
    "The *local weight* quantifies, how much locality is hidden in the given behavior. If we would input a local deterministic\n",
    "behavior, the output would be 1. If we input a extremal non signalling behavior (like the PR box), the output should be zero.\n",
    "Here we chose the PR box input.\n",
    "The local weight problem is solved here in the dual form. This returns a bell expression, that could be a facet inequality."
   ],
   "metadata": {
    "collapsed": false,
    "pycharm": {
     "name": "#%% md\n"
    }
   }
  },
  {
   "cell_type": "code",
   "execution_count": 8,
   "outputs": [
    {
     "name": "stdout",
     "output_type": "stream",
     "text": [
      "1.14285090316419e-09\n"
     ]
    }
   ],
   "source": [
    "from utils import find_local_weight\n",
    "\n",
    "opt, bell_expression = find_local_weight(p, dets)\n",
    "print(bell_expression @ p)"
   ],
   "metadata": {
    "collapsed": false,
    "pycharm": {
     "name": "#%%\n"
    }
   }
  },
  {
   "cell_type": "markdown",
   "source": [
    "## Facet check\n",
    "We can now use the bell expression, to check if it defines a facet inequality. This is the case, if the space that is spanned\n",
    "by the local behaviors that equalize the inequality $b * d_i \\geq 1$ has dimension $(m_a(n_a-1)+1)*(m_b(n_b-1)+1)-2$."
   ],
   "metadata": {
    "collapsed": false,
    "pycharm": {
     "name": "#%% md\n"
    }
   }
  },
  {
   "cell_type": "code",
   "execution_count": 9,
   "outputs": [
    {
     "name": "stdout",
     "output_type": "stream",
     "text": [
      "The inequality is a facet: True\n"
     ]
    }
   ],
   "source": [
    "from utils import facet_inequality_check\n",
    "\n",
    "is_facet, scaled_bell_expression = facet_inequality_check(dets, bell_expression, len(inputs_a), len(inputs_b), len(outputs))\n",
    "print('The inequality is a facet: {}'.format(is_facet))"
   ],
   "metadata": {
    "collapsed": false,
    "pycharm": {
     "name": "#%%\n"
    }
   }
  },
  {
   "cell_type": "markdown",
   "source": [
    "Thus we have found a facet inequality.\n",
    "\n"
   ],
   "metadata": {
    "collapsed": false,
    "pycharm": {
     "name": "#%% md\n"
    }
   }
  }
 ],
 "metadata": {
  "kernelspec": {
   "display_name": "Python 3",
   "language": "python",
   "name": "python3"
  },
  "language_info": {
   "codemirror_mode": {
    "name": "ipython",
    "version": 2
   },
   "file_extension": ".py",
   "mimetype": "text/x-python",
   "name": "python",
   "nbconvert_exporter": "python",
   "pygments_lexer": "ipython2",
   "version": "2.7.6"
  }
 },
 "nbformat": 4,
 "nbformat_minor": 0
}