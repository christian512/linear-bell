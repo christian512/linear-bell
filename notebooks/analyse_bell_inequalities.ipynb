{
 "cells": [
  {
   "cell_type": "markdown",
   "metadata": {
    "collapsed": true,
    "pycharm": {
     "name": "#%% md\n"
    }
   },
   "source": [
    "This notebook should analyse bell inequalities that are found for the finite efficiency PR box. The bell inequalities\n",
    "considered here should equalize at the threshold efficiency of the PR box.\n",
    "\n",
    "We want to find out if there is a structure behind these bell inequalities."
   ]
  },
  {
   "cell_type": "code",
   "execution_count": 49,
   "outputs": [],
   "source": [
    "import numpy as np\n",
    "from linearbell.utils import get_configs\n",
    "file_2233 = '../data/vertex_enum_pr_box_det_decomp/2233.gz'\n",
    "file_3333 = '../data/vertex_enum_pr_box_det_decomp/3333.gz'\n",
    "\n",
    "bell2233 = np.loadtxt(file_2233)\n",
    "bell3333 = np.loadtxt(file_3333)\n",
    "\n",
    "configs2233 = get_configs(range(2), range(2), range(3), range(3))\n",
    "configs3333 = get_configs(range(3), range(3), range(3), range(3))"
   ],
   "metadata": {
    "collapsed": false,
    "pycharm": {
     "name": "#%%\n"
    }
   }
  },
  {
   "cell_type": "markdown",
   "source": [
    "We have now loaded the bell inequalities and want to display them in matrix form. Currently they are just in vector\n",
    "form and the configuration of inputs / outputs at each entry is stored in the corresponding *configXXXX* variable.\n",
    "Therefore define a function that returns the configurations in matrix form and a function that transforms vector form\n",
    "bell inequalities to matrix form."
   ],
   "metadata": {
    "collapsed": false,
    "pycharm": {
     "name": "#%% md\n"
    }
   }
  },
  {
   "cell_type": "code",
   "execution_count": 50,
   "outputs": [],
   "source": [
    "from itertools import product\n",
    "def get_configs_mat(inputs_a, inputs_b, outputs_a, outputs_b):\n",
    "    \"\"\" Returns the configurations in a matrix form \"\"\"\n",
    "    configs = []\n",
    "    for y,b in product(inputs_b, outputs_b):\n",
    "        c = []\n",
    "        for x, a in product(inputs_a, outputs_a):\n",
    "            c.append((a,b,x,y))\n",
    "        configs.append(c)\n",
    "    return configs\n",
    "\n",
    "def transform_vec_to_mat(configs_vec, configs_mat, vec):\n",
    "    \"\"\" Transforms a vector to matrix representation \"\"\"\n",
    "    mat = np.zeros((len(configs_mat), len(configs_mat[0])))\n",
    "    for l,c in enumerate(configs_vec):\n",
    "        for i in range(len(configs_mat)):\n",
    "            try:\n",
    "                j = configs_mat[i].index(c)\n",
    "                # if not fails -> set the entry in matrix\n",
    "                mat[i,j] = vec[l]\n",
    "            except ValueError as e:\n",
    "                pass\n",
    "    return mat\n",
    "\n"
   ],
   "metadata": {
    "collapsed": false,
    "pycharm": {
     "name": "#%%\n"
    }
   }
  },
  {
   "cell_type": "markdown",
   "source": [
    "Now use these functions to reshape the vectors of bell inequalities"
   ],
   "metadata": {
    "collapsed": false,
    "pycharm": {
     "name": "#%% md\n"
    }
   }
  },
  {
   "cell_type": "code",
   "execution_count": 51,
   "outputs": [],
   "source": [
    "configs2233_mat = get_configs_mat(range(2), range(2), range(3), range(3))\n",
    "configs3333_mat = get_configs_mat(range(3), range(3), range(3), range(3))\n",
    "\n",
    "bell2233_mat = transform_vec_to_mat(configs2233, configs2233_mat, bell2233)\n",
    "bell3333_mat = transform_vec_to_mat(configs3333, configs3333_mat, bell3333)\n",
    "\n",
    "assert np.sum(bell2233) == np.sum(bell2233_mat)\n",
    "assert np.sum(bell3333) == np.sum(bell3333_mat)"
   ],
   "metadata": {
    "collapsed": false,
    "pycharm": {
     "name": "#%%\n"
    }
   }
  },
  {
   "cell_type": "markdown",
   "source": [
    "The forms of the bell inequalities look weird, so lets check if the conversion is correct"
   ],
   "metadata": {
    "collapsed": false,
    "pycharm": {
     "name": "#%% md\n"
    }
   }
  },
  {
   "cell_type": "code",
   "source": [
    "for l, (a,b,x,y) in enumerate(configs2233):\n",
    "    if bell2233[l] > 0:\n",
    "        print('a: {} | b: {} | x: {} | y: {}'.format(a,b,x,y))\n",
    "\n"
   ],
   "metadata": {
    "collapsed": false,
    "pycharm": {
     "name": "#%%\n"
    }
   },
   "execution_count": 52,
   "outputs": [
    {
     "name": "stdout",
     "output_type": "stream",
     "text": [
      "a: 0 | b: 0 | x: 0 | y: 0\n",
      "a: 0 | b: 1 | x: 0 | y: 0\n",
      "a: 0 | b: 2 | x: 0 | y: 0\n",
      "a: 1 | b: 0 | x: 0 | y: 0\n",
      "a: 1 | b: 1 | x: 0 | y: 0\n",
      "a: 1 | b: 2 | x: 0 | y: 0\n",
      "a: 2 | b: 0 | x: 0 | y: 0\n",
      "a: 2 | b: 1 | x: 0 | y: 0\n",
      "a: 2 | b: 2 | x: 0 | y: 0\n"
     ]
    }
   ]
  },
  {
   "cell_type": "markdown",
   "source": [
    "Conversion seems to be working. Only the entries for $x=0=y$ are non zero in the bell expression.\n",
    "\n",
    "Check if these bell inequalities actually equalize the PR box at threshold efficiency."
   ],
   "metadata": {
    "collapsed": false,
    "pycharm": {
     "name": "#%% md\n"
    }
   }
  },
  {
   "cell_type": "code",
   "execution_count": 53,
   "outputs": [
    {
     "ename": "AssertionError",
     "evalue": "1.0",
     "output_type": "error",
     "traceback": [
      "\u001B[0;31m---------------------------------------------------------------------------\u001B[0m",
      "\u001B[0;31mAssertionError\u001B[0m                            Traceback (most recent call last)",
      "\u001B[0;32m<ipython-input-53-65bcbf0be670>\u001B[0m in \u001B[0;36m<module>\u001B[0;34m\u001B[0m\n\u001B[1;32m     10\u001B[0m \u001B[0mpr_box2233_high\u001B[0m \u001B[0;34m=\u001B[0m \u001B[0mnp\u001B[0m\u001B[0;34m.\u001B[0m\u001B[0marray\u001B[0m\u001B[0;34m(\u001B[0m\u001B[0mpr_box2233_high\u001B[0m\u001B[0;34m)\u001B[0m\u001B[0;34m\u001B[0m\u001B[0;34m\u001B[0m\u001B[0m\n\u001B[1;32m     11\u001B[0m \u001B[0;34m\u001B[0m\u001B[0m\n\u001B[0;32m---> 12\u001B[0;31m \u001B[0;32massert\u001B[0m \u001B[0mpr_box2233_high\u001B[0m \u001B[0;34m@\u001B[0m \u001B[0mbell2233\u001B[0m \u001B[0;34m>\u001B[0m \u001B[0;36m1.0\u001B[0m\u001B[0;34m,\u001B[0m \u001B[0mpr_box2233_high\u001B[0m \u001B[0;34m@\u001B[0m \u001B[0mbell2233\u001B[0m\u001B[0;34m\u001B[0m\u001B[0;34m\u001B[0m\u001B[0m\n\u001B[0m\u001B[1;32m     13\u001B[0m \u001B[0;34m\u001B[0m\u001B[0m\n",
      "\u001B[0;31mAssertionError\u001B[0m: 1.0"
     ]
    }
   ],
   "source": [
    "from linearbell.utils import general_pr_box_extended\n",
    "eta2 = 4 / (4 + 2)\n",
    "pr_box2233 = [general_pr_box_extended(a, b, x, y, eta2, range(2)) for (a, b, x, y) in configs2233]\n",
    "pr_box2233 = np.array(pr_box2233)\n",
    "\n",
    "assert pr_box2233 @ bell2233 == 1.0\n",
    "\n",
    "epsilon = -0.1\n",
    "pr_box2233_high = [general_pr_box_extended(a, b, x, y, eta2 + epsilon, range(2)) for (a, b, x, y) in configs2233]\n",
    "pr_box2233_high = np.array(pr_box2233_high)\n",
    "\n",
    "assert pr_box2233_high @ bell2233 > 1.0, pr_box2233_high @ bell2233"
   ],
   "metadata": {
    "collapsed": false,
    "pycharm": {
     "name": "#%%\n"
    }
   }
  },
  {
   "cell_type": "markdown",
   "source": [
    "So the bell inequality is not a bell inequality actually. It's just summing up all\n",
    "probabilities for one input pair, which is of course 1 due to normalization."
   ],
   "metadata": {
    "collapsed": false,
    "pycharm": {
     "name": "#%% md\n"
    }
   }
  }
 ],
 "metadata": {
  "kernelspec": {
   "name": "pycharm-15ea9abd",
   "language": "python",
   "display_name": "PyCharm (linearbell)"
  },
  "language_info": {
   "codemirror_mode": {
    "name": "ipython",
    "version": 2
   },
   "file_extension": ".py",
   "mimetype": "text/x-python",
   "name": "python",
   "nbconvert_exporter": "python",
   "pygments_lexer": "ipython2",
   "version": "2.7.6"
  }
 },
 "nbformat": 4,
 "nbformat_minor": 0
}