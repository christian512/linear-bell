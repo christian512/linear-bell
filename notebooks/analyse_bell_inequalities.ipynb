{
 "cells": [
  {
   "cell_type": "markdown",
   "metadata": {
    "collapsed": true,
    "pycharm": {
     "name": "#%% md\n"
    }
   },
   "source": [
    "This notebook should analyse bell inequalities that are found for the finite efficiency PR box. The bell inequalities\n",
    "considered here should equalize at the threshold efficiency of the PR box.\n",
    "\n",
    "We want to find out if there is a structure behind these bell inequalities."
   ]
  },
  {
   "cell_type": "code",
   "execution_count": 7,
   "outputs": [],
   "source": [
    "import numpy as np\n",
    "from linearbell.utils import get_configs, get_deterministic_behaviors, check_equiv_bell\n",
    "\n",
    "ma = 2\n",
    "mb = 2\n",
    "n = 3\n",
    "\n",
    "file = '../data/vertex_enum_pr_box_det_decomp/{}{}{}{}.gz'.format(ma,mb,n,n)\n",
    "all_inequalities = np.loadtxt(file)\n",
    "\n",
    "configs = get_configs(range(ma), range(mb), range(n), range(n))\n",
    "\n",
    "dets = get_deterministic_behaviors(range(ma), range(mb), range(n))\n",
    "p_origin = np.sum(dets, axis=0) / dets.shape[0]\n",
    "\n"
   ],
   "metadata": {
    "collapsed": false,
    "pycharm": {
     "name": "#%%\n"
    }
   }
  },
  {
   "cell_type": "markdown",
   "source": [
    "For later testing define the pr boxes and shift their origins."
   ],
   "metadata": {
    "collapsed": false,
    "pycharm": {
     "name": "#%% md\n"
    }
   }
  },
  {
   "cell_type": "code",
   "execution_count": 8,
   "outputs": [],
   "source": [
    "from linearbell.utils import general_pr_box_extended\n",
    "eta = 4 / (4 + ma)\n",
    "pr_box= [general_pr_box_extended(a, b, x, y, eta, range(2)) for (a, b, x, y) in configs]\n",
    "pr_box = np.array(pr_box) - p_origin\n",
    "\n",
    "epsilon = 0.01\n",
    "pr_box_high = [general_pr_box_extended(a, b, x, y, eta + epsilon, range(2)) for (a, b, x, y) in configs]\n",
    "pr_box_high = np.array(pr_box_high) - p_origin\n",
    "\n",
    "pr_box_low= [general_pr_box_extended(a, b, x, y, eta - epsilon, range(2)) for (a, b, x, y) in configs]\n",
    "pr_box_low = np.array(pr_box_low) - p_origin\n"
   ],
   "metadata": {
    "collapsed": false,
    "pycharm": {
     "name": "#%%\n"
    }
   }
  },
  {
   "cell_type": "markdown",
   "source": [
    "As we have loaded all bell inequalities, we have to check how many bell inequalities are of the same class and if actually\n",
    "all bell inequalities fulfill the conditions we have."
   ],
   "metadata": {
    "collapsed": false,
    "pycharm": {
     "name": "#%% md\n"
    }
   }
  },
  {
   "cell_type": "code",
   "execution_count": 9,
   "outputs": [
    {
     "name": "stdout",
     "output_type": "stream",
     "text": [
      "High efficiency Pr Box does not violate: PR * b = 1.0\n",
      "High efficiency Pr Box does not violate: PR * b = 1.0\n",
      "High efficiency Pr Box does not violate: PR * b = 1.0\n",
      "High efficiency Pr Box does not violate: PR * b = 1.0\n",
      "High efficiency Pr Box does not violate: PR * b = 1.0\n",
      "High efficiency Pr Box does not violate: PR * b = 1.0\n",
      "High efficiency Pr Box does not violate: PR * b = 1.0\n",
      "High efficiency Pr Box does not violate: PR * b = 1.0\n"
     ]
    }
   ],
   "source": [
    "correct_inequalities = []\n",
    "for b in all_inequalities:\n",
    "    try:\n",
    "        assert np.abs(pr_box @ b - 1) < 1e-4, 'Threshold eff PR box is not equalizing'\n",
    "        assert pr_box_high @ b > 1.0, 'High efficiency Pr Box does not violate: PR * b = {}'.format(pr_box_high @ b)\n",
    "        assert pr_box_low @ b < 1.0, 'Low efficiency PR box is not local: PR * b = {}'.format(pr_box_low @ b)\n",
    "\n",
    "        correct_inequalities.append(b)\n",
    "    except AssertionError as e:\n",
    "        print(e)\n",
    "correct_inequalities = np.array(correct_inequalities)"
   ],
   "metadata": {
    "collapsed": false,
    "pycharm": {
     "name": "#%%\n"
    }
   }
  },
  {
   "cell_type": "markdown",
   "source": [
    "Check how many classes of bell inequalities there are."
   ],
   "metadata": {
    "collapsed": false
   }
  },
  {
   "cell_type": "code",
   "execution_count": 10,
   "outputs": [],
   "source": [
    "from linearbell.utils import affine_transform_bell\n",
    "file_relabels = '../data/relabels_dets/{}{}{}{}.gz'.format(ma, mb, n, n)\n",
    "relabels_dets = np.loadtxt(file_relabels, dtype=float).astype(int)\n",
    "# shift the inequalities\n",
    "correct_inequalities = affine_transform_bell(correct_inequalities, dets)\n",
    "\n",
    "# find the number of classes\n",
    "del_ineq = []\n",
    "for i in range(correct_inequalities.shape[0]):\n",
    "    # if this facet can already be deleted -> continue\n",
    "    if i in del_ineq: continue\n",
    "    for j in range(i + 1, correct_inequalities.shape[0]):\n",
    "        # if this facet can already be deleted -> continue\n",
    "        if j in del_ineq: continue\n",
    "        # check if the two facets are equivalent\n",
    "        if check_equiv_bell(correct_inequalities[i], correct_inequalities[j], relabels_dets, dets, tol=1e-4):\n",
    "            del_ineq.append(j)\n",
    "# store new facets\n",
    "classes_inequalities = np.delete(correct_inequalities, del_ineq, axis=0)"
   ],
   "metadata": {
    "collapsed": false,
    "pycharm": {
     "name": "#%%\n"
    }
   }
  },
  {
   "cell_type": "markdown",
   "source": [
    "As we can see not all of the bell inequalities we find are actually bell inequalities. Maybe we also have\n",
    "to do a check for facets.\n",
    "\n",
    "We have now the bell inequalities and want to display them in matrix form. Currently they are just in vector\n",
    "form and the configuration of inputs / outputs at each entry is stored in the corresponding *configXXXX* variable.\n",
    "Therefore define a function that returns the configurations in matrix form and a function that transforms vector form\n",
    "bell inequalities to matrix form."
   ],
   "metadata": {
    "collapsed": false,
    "pycharm": {
     "name": "#%% md\n"
    }
   }
  },
  {
   "cell_type": "code",
   "execution_count": 11,
   "outputs": [],
   "source": [
    "from itertools import product\n",
    "def get_configs_mat(inputs_a, inputs_b, outputs_a, outputs_b):\n",
    "    \"\"\" Returns the configurations in a matrix form \"\"\"\n",
    "    configs = []\n",
    "    for y,b in product(inputs_b, outputs_b):\n",
    "        c = []\n",
    "        for x, a in product(inputs_a, outputs_a):\n",
    "            c.append((a,b,x,y))\n",
    "        configs.append(c)\n",
    "    return configs\n",
    "\n",
    "def transform_vec_to_mat(configs_vec, configs_mat, vec):\n",
    "    \"\"\" Transforms a vector to matrix representation \"\"\"\n",
    "    mat = np.zeros((len(configs_mat), len(configs_mat[0])))\n",
    "    for l,c in enumerate(configs_vec):\n",
    "        for i in range(len(configs_mat)):\n",
    "            try:\n",
    "                j = configs_mat[i].index(c)\n",
    "                # if not fails -> set the entry in matrix\n",
    "                mat[i,j] = vec[l]\n",
    "            except ValueError as e:\n",
    "                pass\n",
    "    return mat\n",
    "\n"
   ],
   "metadata": {
    "collapsed": false,
    "pycharm": {
     "name": "#%%\n"
    }
   }
  },
  {
   "cell_type": "markdown",
   "source": [
    "Now use these functions to reshape the vectors of bell inequalities"
   ],
   "metadata": {
    "collapsed": false,
    "pycharm": {
     "name": "#%% md\n"
    }
   }
  },
  {
   "cell_type": "code",
   "execution_count": 12,
   "outputs": [],
   "source": [
    "configs_mat = get_configs_mat(range(ma), range(mb), range(n), range(n))\n",
    "\n",
    "mat_inequalities = []\n",
    "for b in correct_inequalities:\n",
    "    m = transform_vec_to_mat(configs, configs_mat, b)\n",
    "    mat_inequalities.append(m)\n",
    "\n",
    "mat = mat_inequalities[0]"
   ],
   "metadata": {
    "collapsed": false,
    "pycharm": {
     "name": "#%%\n"
    }
   }
  },
  {
   "cell_type": "markdown",
   "source": [],
   "metadata": {
    "collapsed": false,
    "pycharm": {
     "name": "#%% md\n"
    }
   }
  }
 ],
 "metadata": {
  "kernelspec": {
   "name": "pycharm-15ea9abd",
   "language": "python",
   "display_name": "PyCharm (linearbell)"
  },
  "language_info": {
   "codemirror_mode": {
    "name": "ipython",
    "version": 2
   },
   "file_extension": ".py",
   "mimetype": "text/x-python",
   "name": "python",
   "nbconvert_exporter": "python",
   "pygments_lexer": "ipython2",
   "version": "2.7.6"
  }
 },
 "nbformat": 4,
 "nbformat_minor": 0
}