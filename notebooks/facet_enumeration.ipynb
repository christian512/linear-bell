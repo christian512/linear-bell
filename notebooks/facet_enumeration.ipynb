{
 "cells": [
  {
   "cell_type": "markdown",
   "metadata": {
    "collapsed": true,
    "pycharm": {
     "name": "#%% md\n"
    }
   },
   "source": [
    "# Enumerate Facet inequalities for a given number of inputs and binary outputs\n",
    "Here I want to implement an algorithm, to find all facet inequalities for a given number of inputs and binary outputs.\n",
    "This follows the construction of *Algorithm 1* in the paper [*Bell inequalities from no-signalling distribution*, *Cope & Colbeck (2019)*](https://arxiv.org/abs/1812.10017).\n",
    "\n",
    "First we set the number of inputs and outputs and obtain the extremal points for the specific NS polytope."
   ]
  },
  {
   "cell_type": "code",
   "execution_count": 1,
   "outputs": [],
   "source": [
    "from src.utils import extremal_ns_binary_vertices, get_deterministic_behaviors, get_allowed_relabellings\n",
    "import numpy as np\n",
    "# set inputs / outputs\n",
    "inputs_a = range(3)\n",
    "inputs_b = range(3)\n",
    "outputs = range(2)\n",
    "epsilons = np.linspace(1/3,2/3, num=3)\n",
    "file = 'facets/{}{}{}{}_{}eps.txt'.format(len(inputs_a), len(inputs_b), len(outputs), len(outputs), len(epsilons))\n",
    "# get extremal points\n",
    "extremals = extremal_ns_binary_vertices(inputs_a, inputs_b, outputs)\n",
    "\n",
    "# get deterministic points\n",
    "dets = get_deterministic_behaviors(inputs_a, inputs_b, outputs)\n",
    "\n",
    "# get allowed relabellings\n",
    "allowed_relabellings = get_allowed_relabellings(inputs_a, inputs_b, outputs, outputs)\n",
    "\n",
    "# options for local weight optimizer (bland is only needed for higher dimensions (m_a , m_b > 4)\n",
    "options = {\"disp\": False, \"maxiter\": 5000, \"bland\": True}\n",
    "method='simplex'"
   ],
   "metadata": {
    "collapsed": false,
    "pycharm": {
     "name": "#%%\n"
    }
   }
  },
  {
   "cell_type": "code",
   "execution_count": 2,
   "outputs": [
    {
     "name": "stdout",
     "output_type": "stream",
     "text": [
      "0 / 8 : num of facets: 0\n",
      "num facets: 1\n",
      "1 / 8 : num of facets: 1\n",
      "num facets: 2\n",
      "num facets: 3\n"
     ]
    },
    {
     "ename": "KeyboardInterrupt",
     "evalue": "",
     "output_type": "error",
     "traceback": [
      "\u001B[0;31m---------------------------------------------------------------------------\u001B[0m",
      "\u001B[0;31mKeyboardInterrupt\u001B[0m                         Traceback (most recent call last)",
      "\u001B[0;32m<ipython-input-2-d84a25ed838a>\u001B[0m in \u001B[0;36m<module>\u001B[0;34m\u001B[0m\n\u001B[1;32m     33\u001B[0m             \u001B[0me_new\u001B[0m \u001B[0;34m=\u001B[0m \u001B[0;34m(\u001B[0m\u001B[0;36m1\u001B[0m\u001B[0;34m-\u001B[0m\u001B[0;36m3\u001B[0m\u001B[0;34m*\u001B[0m\u001B[0mepsilon\u001B[0m\u001B[0;34m/\u001B[0m\u001B[0;36m2\u001B[0m\u001B[0;34m)\u001B[0m\u001B[0;34m*\u001B[0m\u001B[0me\u001B[0m \u001B[0;34m+\u001B[0m \u001B[0mepsilon\u001B[0m\u001B[0;34m*\u001B[0m\u001B[0meq_dets\u001B[0m\u001B[0;34m[\u001B[0m\u001B[0mj\u001B[0m\u001B[0;34m]\u001B[0m \u001B[0;34m+\u001B[0m \u001B[0mepsilon\u001B[0m \u001B[0;34m/\u001B[0m \u001B[0;36m2\u001B[0m \u001B[0;34m*\u001B[0m \u001B[0meq_dets\u001B[0m\u001B[0;34m[\u001B[0m\u001B[0mk\u001B[0m\u001B[0;34m]\u001B[0m\u001B[0;34m\u001B[0m\u001B[0;34m\u001B[0m\u001B[0m\n\u001B[1;32m     34\u001B[0m             \u001B[0;31m# do the facet check again\u001B[0m\u001B[0;34m\u001B[0m\u001B[0;34m\u001B[0m\u001B[0;34m\u001B[0m\u001B[0m\n\u001B[0;32m---> 35\u001B[0;31m             \u001B[0mopt\u001B[0m\u001B[0;34m,\u001B[0m \u001B[0mbell_expression\u001B[0m \u001B[0;34m=\u001B[0m \u001B[0mfind_local_weight\u001B[0m\u001B[0;34m(\u001B[0m\u001B[0me_new\u001B[0m\u001B[0;34m,\u001B[0m \u001B[0mdets\u001B[0m\u001B[0;34m,\u001B[0m\u001B[0mmethod\u001B[0m\u001B[0;34m=\u001B[0m\u001B[0mmethod\u001B[0m\u001B[0;34m,\u001B[0m \u001B[0moptions\u001B[0m\u001B[0;34m=\u001B[0m\u001B[0moptions\u001B[0m\u001B[0;34m)\u001B[0m\u001B[0;34m\u001B[0m\u001B[0;34m\u001B[0m\u001B[0m\n\u001B[0m\u001B[1;32m     36\u001B[0m \u001B[0;34m\u001B[0m\u001B[0m\n\u001B[1;32m     37\u001B[0m             \u001B[0mis_facet\u001B[0m\u001B[0;34m,\u001B[0m \u001B[0mbell_expression\u001B[0m\u001B[0;34m,\u001B[0m \u001B[0meq_dets_new\u001B[0m \u001B[0;34m=\u001B[0m \u001B[0mfacet_inequality_check\u001B[0m\u001B[0;34m(\u001B[0m\u001B[0mdets\u001B[0m\u001B[0;34m,\u001B[0m \u001B[0mbell_expression\u001B[0m\u001B[0;34m,\u001B[0m \u001B[0mlen\u001B[0m\u001B[0;34m(\u001B[0m\u001B[0minputs_a\u001B[0m\u001B[0;34m)\u001B[0m\u001B[0;34m,\u001B[0m \u001B[0mlen\u001B[0m\u001B[0;34m(\u001B[0m\u001B[0minputs_b\u001B[0m\u001B[0;34m)\u001B[0m\u001B[0;34m,\u001B[0m \u001B[0mlen\u001B[0m\u001B[0;34m(\u001B[0m\u001B[0moutputs\u001B[0m\u001B[0;34m)\u001B[0m\u001B[0;34m)\u001B[0m\u001B[0;34m\u001B[0m\u001B[0;34m\u001B[0m\u001B[0m\n",
      "\u001B[0;32m~/Documents/master_thesis/code/linear-bell/utils.py\u001B[0m in \u001B[0;36mfind_local_weight\u001B[0;34m(p, dets, method, options)\u001B[0m\n\u001B[1;32m    161\u001B[0m     \u001B[0mrhs_ineq\u001B[0m \u001B[0;34m=\u001B[0m \u001B[0;34m-\u001B[0m\u001B[0;36m1.0\u001B[0m \u001B[0;34m*\u001B[0m \u001B[0mnp\u001B[0m\u001B[0;34m.\u001B[0m\u001B[0mones\u001B[0m\u001B[0;34m(\u001B[0m\u001B[0mdets\u001B[0m\u001B[0;34m.\u001B[0m\u001B[0mshape\u001B[0m\u001B[0;34m[\u001B[0m\u001B[0;36m0\u001B[0m\u001B[0;34m]\u001B[0m\u001B[0;34m)\u001B[0m\u001B[0;34m\u001B[0m\u001B[0;34m\u001B[0m\u001B[0m\n\u001B[1;32m    162\u001B[0m     \u001B[0;31m# run the optimizer\u001B[0m\u001B[0;34m\u001B[0m\u001B[0;34m\u001B[0m\u001B[0;34m\u001B[0m\u001B[0m\n\u001B[0;32m--> 163\u001B[0;31m     \u001B[0mopt\u001B[0m \u001B[0;34m=\u001B[0m \u001B[0mlinprog\u001B[0m\u001B[0;34m(\u001B[0m\u001B[0mc\u001B[0m\u001B[0;34m=\u001B[0m\u001B[0mobj\u001B[0m\u001B[0;34m,\u001B[0m \u001B[0mA_ub\u001B[0m\u001B[0;34m=\u001B[0m\u001B[0mlhs_ineq\u001B[0m\u001B[0;34m,\u001B[0m \u001B[0mb_ub\u001B[0m\u001B[0;34m=\u001B[0m\u001B[0mrhs_ineq\u001B[0m\u001B[0;34m,\u001B[0m \u001B[0mmethod\u001B[0m\u001B[0;34m=\u001B[0m\u001B[0mmethod\u001B[0m\u001B[0;34m,\u001B[0m \u001B[0moptions\u001B[0m\u001B[0;34m=\u001B[0m\u001B[0moptions\u001B[0m\u001B[0;34m)\u001B[0m\u001B[0;34m\u001B[0m\u001B[0;34m\u001B[0m\u001B[0m\n\u001B[0m\u001B[1;32m    164\u001B[0m     \u001B[0;31m# if not found -> retry with standard method\u001B[0m\u001B[0;34m\u001B[0m\u001B[0;34m\u001B[0m\u001B[0;34m\u001B[0m\u001B[0m\n\u001B[1;32m    165\u001B[0m     \u001B[0;32mif\u001B[0m \u001B[0;32mnot\u001B[0m \u001B[0mopt\u001B[0m\u001B[0;34m.\u001B[0m\u001B[0msuccess\u001B[0m\u001B[0;34m:\u001B[0m\u001B[0;34m\u001B[0m\u001B[0;34m\u001B[0m\u001B[0m\n",
      "\u001B[0;32m~/anaconda3/envs/linear-bell/lib/python3.8/site-packages/scipy/optimize/_linprog.py\u001B[0m in \u001B[0;36mlinprog\u001B[0;34m(c, A_ub, b_ub, A_eq, b_eq, bounds, method, callback, options, x0)\u001B[0m\n\u001B[1;32m    540\u001B[0m \u001B[0;34m\u001B[0m\u001B[0m\n\u001B[1;32m    541\u001B[0m         \u001B[0;32mif\u001B[0m \u001B[0mmeth\u001B[0m \u001B[0;34m==\u001B[0m \u001B[0;34m'simplex'\u001B[0m\u001B[0;34m:\u001B[0m\u001B[0;34m\u001B[0m\u001B[0;34m\u001B[0m\u001B[0m\n\u001B[0;32m--> 542\u001B[0;31m             x, status, message, iteration = _linprog_simplex(\n\u001B[0m\u001B[1;32m    543\u001B[0m                 \u001B[0mc\u001B[0m\u001B[0;34m,\u001B[0m \u001B[0mc0\u001B[0m\u001B[0;34m=\u001B[0m\u001B[0mc0\u001B[0m\u001B[0;34m,\u001B[0m \u001B[0mA\u001B[0m\u001B[0;34m=\u001B[0m\u001B[0mA\u001B[0m\u001B[0;34m,\u001B[0m \u001B[0mb\u001B[0m\u001B[0;34m=\u001B[0m\u001B[0mb\u001B[0m\u001B[0;34m,\u001B[0m \u001B[0mcallback\u001B[0m\u001B[0;34m=\u001B[0m\u001B[0mcallback\u001B[0m\u001B[0;34m,\u001B[0m\u001B[0;34m\u001B[0m\u001B[0;34m\u001B[0m\u001B[0m\n\u001B[1;32m    544\u001B[0m                 postsolve_args=postsolve_args, **solver_options)\n",
      "\u001B[0;32m~/anaconda3/envs/linear-bell/lib/python3.8/site-packages/scipy/optimize/_linprog_simplex.py\u001B[0m in \u001B[0;36m_linprog_simplex\u001B[0;34m(c, c0, A, b, callback, postsolve_args, maxiter, tol, disp, bland, **unknown_options)\u001B[0m\n\u001B[1;32m    647\u001B[0m     \u001B[0;32mif\u001B[0m \u001B[0mstatus\u001B[0m \u001B[0;34m==\u001B[0m \u001B[0;36m0\u001B[0m\u001B[0;34m:\u001B[0m\u001B[0;34m\u001B[0m\u001B[0;34m\u001B[0m\u001B[0m\n\u001B[1;32m    648\u001B[0m         \u001B[0;31m# Phase 2\u001B[0m\u001B[0;34m\u001B[0m\u001B[0;34m\u001B[0m\u001B[0;34m\u001B[0m\u001B[0m\n\u001B[0;32m--> 649\u001B[0;31m         nit2, status = _solve_simplex(T, n, basis, callback=callback,\n\u001B[0m\u001B[1;32m    650\u001B[0m                                       \u001B[0mpostsolve_args\u001B[0m\u001B[0;34m=\u001B[0m\u001B[0mpostsolve_args\u001B[0m\u001B[0;34m,\u001B[0m\u001B[0;34m\u001B[0m\u001B[0;34m\u001B[0m\u001B[0m\n\u001B[1;32m    651\u001B[0m                                       \u001B[0mmaxiter\u001B[0m\u001B[0;34m=\u001B[0m\u001B[0mmaxiter\u001B[0m\u001B[0;34m,\u001B[0m \u001B[0mtol\u001B[0m\u001B[0;34m=\u001B[0m\u001B[0mtol\u001B[0m\u001B[0;34m,\u001B[0m \u001B[0mphase\u001B[0m\u001B[0;34m=\u001B[0m\u001B[0;36m2\u001B[0m\u001B[0;34m,\u001B[0m\u001B[0;34m\u001B[0m\u001B[0;34m\u001B[0m\u001B[0m\n",
      "\u001B[0;32m~/anaconda3/envs/linear-bell/lib/python3.8/site-packages/scipy/optimize/_linprog_simplex.py\u001B[0m in \u001B[0;36m_solve_simplex\u001B[0;34m(T, n, basis, callback, postsolve_args, maxiter, tol, phase, bland, nit0)\u001B[0m\n\u001B[1;32m    399\u001B[0m         \u001B[0;32melse\u001B[0m\u001B[0;34m:\u001B[0m\u001B[0;34m\u001B[0m\u001B[0;34m\u001B[0m\u001B[0m\n\u001B[1;32m    400\u001B[0m             \u001B[0;31m# Find the pivot row\u001B[0m\u001B[0;34m\u001B[0m\u001B[0;34m\u001B[0m\u001B[0;34m\u001B[0m\u001B[0m\n\u001B[0;32m--> 401\u001B[0;31m             \u001B[0mpivrow_found\u001B[0m\u001B[0;34m,\u001B[0m \u001B[0mpivrow\u001B[0m \u001B[0;34m=\u001B[0m \u001B[0m_pivot_row\u001B[0m\u001B[0;34m(\u001B[0m\u001B[0mT\u001B[0m\u001B[0;34m,\u001B[0m \u001B[0mbasis\u001B[0m\u001B[0;34m,\u001B[0m \u001B[0mpivcol\u001B[0m\u001B[0;34m,\u001B[0m \u001B[0mphase\u001B[0m\u001B[0;34m,\u001B[0m \u001B[0mtol\u001B[0m\u001B[0;34m,\u001B[0m \u001B[0mbland\u001B[0m\u001B[0;34m)\u001B[0m\u001B[0;34m\u001B[0m\u001B[0;34m\u001B[0m\u001B[0m\n\u001B[0m\u001B[1;32m    402\u001B[0m             \u001B[0;32mif\u001B[0m \u001B[0;32mnot\u001B[0m \u001B[0mpivrow_found\u001B[0m\u001B[0;34m:\u001B[0m\u001B[0;34m\u001B[0m\u001B[0;34m\u001B[0m\u001B[0m\n\u001B[1;32m    403\u001B[0m                 \u001B[0mstatus\u001B[0m \u001B[0;34m=\u001B[0m \u001B[0;36m3\u001B[0m\u001B[0;34m\u001B[0m\u001B[0;34m\u001B[0m\u001B[0m\n",
      "\u001B[0;32m~/anaconda3/envs/linear-bell/lib/python3.8/site-packages/scipy/optimize/_linprog_simplex.py\u001B[0m in \u001B[0;36m_pivot_row\u001B[0;34m(T, basis, pivcol, phase, tol, bland)\u001B[0m\n\u001B[1;32m    161\u001B[0m     \u001B[0mmb\u001B[0m \u001B[0;34m=\u001B[0m \u001B[0mnp\u001B[0m\u001B[0;34m.\u001B[0m\u001B[0mma\u001B[0m\u001B[0;34m.\u001B[0m\u001B[0mmasked_where\u001B[0m\u001B[0;34m(\u001B[0m\u001B[0mT\u001B[0m\u001B[0;34m[\u001B[0m\u001B[0;34m:\u001B[0m\u001B[0;34m-\u001B[0m\u001B[0mk\u001B[0m\u001B[0;34m,\u001B[0m \u001B[0mpivcol\u001B[0m\u001B[0;34m]\u001B[0m \u001B[0;34m<=\u001B[0m \u001B[0mtol\u001B[0m\u001B[0;34m,\u001B[0m \u001B[0mT\u001B[0m\u001B[0;34m[\u001B[0m\u001B[0;34m:\u001B[0m\u001B[0;34m-\u001B[0m\u001B[0mk\u001B[0m\u001B[0;34m,\u001B[0m \u001B[0;34m-\u001B[0m\u001B[0;36m1\u001B[0m\u001B[0;34m]\u001B[0m\u001B[0;34m,\u001B[0m \u001B[0mcopy\u001B[0m\u001B[0;34m=\u001B[0m\u001B[0;32mFalse\u001B[0m\u001B[0;34m)\u001B[0m\u001B[0;34m\u001B[0m\u001B[0;34m\u001B[0m\u001B[0m\n\u001B[1;32m    162\u001B[0m     \u001B[0mq\u001B[0m \u001B[0;34m=\u001B[0m \u001B[0mmb\u001B[0m \u001B[0;34m/\u001B[0m \u001B[0mma\u001B[0m\u001B[0;34m\u001B[0m\u001B[0;34m\u001B[0m\u001B[0m\n\u001B[0;32m--> 163\u001B[0;31m     \u001B[0mmin_rows\u001B[0m \u001B[0;34m=\u001B[0m \u001B[0mnp\u001B[0m\u001B[0;34m.\u001B[0m\u001B[0mma\u001B[0m\u001B[0;34m.\u001B[0m\u001B[0mnonzero\u001B[0m\u001B[0;34m(\u001B[0m\u001B[0mq\u001B[0m \u001B[0;34m==\u001B[0m \u001B[0mq\u001B[0m\u001B[0;34m.\u001B[0m\u001B[0mmin\u001B[0m\u001B[0;34m(\u001B[0m\u001B[0;34m)\u001B[0m\u001B[0;34m)\u001B[0m\u001B[0;34m[\u001B[0m\u001B[0;36m0\u001B[0m\u001B[0;34m]\u001B[0m\u001B[0;34m\u001B[0m\u001B[0;34m\u001B[0m\u001B[0m\n\u001B[0m\u001B[1;32m    164\u001B[0m     \u001B[0;32mif\u001B[0m \u001B[0mbland\u001B[0m\u001B[0;34m:\u001B[0m\u001B[0;34m\u001B[0m\u001B[0;34m\u001B[0m\u001B[0m\n\u001B[1;32m    165\u001B[0m         \u001B[0;32mreturn\u001B[0m \u001B[0;32mTrue\u001B[0m\u001B[0;34m,\u001B[0m \u001B[0mmin_rows\u001B[0m\u001B[0;34m[\u001B[0m\u001B[0mnp\u001B[0m\u001B[0;34m.\u001B[0m\u001B[0margmin\u001B[0m\u001B[0;34m(\u001B[0m\u001B[0mnp\u001B[0m\u001B[0;34m.\u001B[0m\u001B[0mtake\u001B[0m\u001B[0;34m(\u001B[0m\u001B[0mbasis\u001B[0m\u001B[0;34m,\u001B[0m \u001B[0mmin_rows\u001B[0m\u001B[0;34m)\u001B[0m\u001B[0;34m)\u001B[0m\u001B[0;34m]\u001B[0m\u001B[0;34m\u001B[0m\u001B[0;34m\u001B[0m\u001B[0m\n",
      "\u001B[0;32m~/anaconda3/envs/linear-bell/lib/python3.8/site-packages/numpy/ma/core.py\u001B[0m in \u001B[0;36mmin\u001B[0;34m(self, axis, out, fill_value, keepdims)\u001B[0m\n\u001B[1;32m   5698\u001B[0m         \u001B[0;31m# No explicit output\u001B[0m\u001B[0;34m\u001B[0m\u001B[0;34m\u001B[0m\u001B[0;34m\u001B[0m\u001B[0m\n\u001B[1;32m   5699\u001B[0m         \u001B[0;32mif\u001B[0m \u001B[0mout\u001B[0m \u001B[0;32mis\u001B[0m \u001B[0;32mNone\u001B[0m\u001B[0;34m:\u001B[0m\u001B[0;34m\u001B[0m\u001B[0;34m\u001B[0m\u001B[0m\n\u001B[0;32m-> 5700\u001B[0;31m             result = self.filled(fill_value).min(\n\u001B[0m\u001B[1;32m   5701\u001B[0m                 axis=axis, out=out, **kwargs).view(type(self))\n\u001B[1;32m   5702\u001B[0m             \u001B[0;32mif\u001B[0m \u001B[0mresult\u001B[0m\u001B[0;34m.\u001B[0m\u001B[0mndim\u001B[0m\u001B[0;34m:\u001B[0m\u001B[0;34m\u001B[0m\u001B[0;34m\u001B[0m\u001B[0m\n",
      "\u001B[0;32m~/anaconda3/envs/linear-bell/lib/python3.8/site-packages/numpy/ma/core.py\u001B[0m in \u001B[0;36mfilled\u001B[0;34m(self, fill_value)\u001B[0m\n\u001B[1;32m   3793\u001B[0m             \u001B[0mresult\u001B[0m \u001B[0;34m=\u001B[0m \u001B[0mself\u001B[0m\u001B[0;34m.\u001B[0m\u001B[0m_data\u001B[0m\u001B[0;34m.\u001B[0m\u001B[0mcopy\u001B[0m\u001B[0;34m(\u001B[0m\u001B[0;34m'K'\u001B[0m\u001B[0;34m)\u001B[0m\u001B[0;34m\u001B[0m\u001B[0;34m\u001B[0m\u001B[0m\n\u001B[1;32m   3794\u001B[0m             \u001B[0;32mtry\u001B[0m\u001B[0;34m:\u001B[0m\u001B[0;34m\u001B[0m\u001B[0;34m\u001B[0m\u001B[0m\n\u001B[0;32m-> 3795\u001B[0;31m                 \u001B[0mnp\u001B[0m\u001B[0;34m.\u001B[0m\u001B[0mcopyto\u001B[0m\u001B[0;34m(\u001B[0m\u001B[0mresult\u001B[0m\u001B[0;34m,\u001B[0m \u001B[0mfill_value\u001B[0m\u001B[0;34m,\u001B[0m \u001B[0mwhere\u001B[0m\u001B[0;34m=\u001B[0m\u001B[0mm\u001B[0m\u001B[0;34m)\u001B[0m\u001B[0;34m\u001B[0m\u001B[0;34m\u001B[0m\u001B[0m\n\u001B[0m\u001B[1;32m   3796\u001B[0m             \u001B[0;32mexcept\u001B[0m \u001B[0;34m(\u001B[0m\u001B[0mTypeError\u001B[0m\u001B[0;34m,\u001B[0m \u001B[0mAttributeError\u001B[0m\u001B[0;34m)\u001B[0m\u001B[0;34m:\u001B[0m\u001B[0;34m\u001B[0m\u001B[0;34m\u001B[0m\u001B[0m\n\u001B[1;32m   3797\u001B[0m                 \u001B[0mfill_value\u001B[0m \u001B[0;34m=\u001B[0m \u001B[0mnarray\u001B[0m\u001B[0;34m(\u001B[0m\u001B[0mfill_value\u001B[0m\u001B[0;34m,\u001B[0m \u001B[0mdtype\u001B[0m\u001B[0;34m=\u001B[0m\u001B[0mobject\u001B[0m\u001B[0;34m)\u001B[0m\u001B[0;34m\u001B[0m\u001B[0;34m\u001B[0m\u001B[0m\n",
      "\u001B[0;32m<__array_function__ internals>\u001B[0m in \u001B[0;36mcopyto\u001B[0;34m(*args, **kwargs)\u001B[0m\n",
      "\u001B[0;31mKeyboardInterrupt\u001B[0m: "
     ]
    }
   ],
   "source": [
    "from src.utils import find_local_weight, facet_inequality_check, check_equiv_bell\n",
    "from itertools import product\n",
    "\n",
    "\n",
    "# list of all facets\n",
    "facets = []\n",
    "# iterate through extremals\n",
    "\n",
    "for z, e in enumerate(extremals):\n",
    "    print('{} / {} : num of facets: {}'.format(z,len(extremals),len(facets)))\n",
    "    # find the local weight for the extremal behavior\n",
    "    opt, bell_expression = find_local_weight(e, dets, method=method, options=options)\n",
    "\n",
    "    # check that there is no local part, as it is an extremal point\n",
    "    assert np.abs(bell_expression @ e) < 1e-6, 'local weight of extremal is not zero: {}'.format(np.abs(bell_expression @ e))\n",
    "    # find all equalizing local behaviors for the inequality bell_expression @ d >= 1\n",
    "    is_facet, bell_expression, eq_dets = facet_inequality_check(dets, bell_expression, len(inputs_a), len(inputs_b), len(outputs))\n",
    "    # check if other representation is already in facets\n",
    "    if is_facet:\n",
    "        check = [check_equiv_bell(bell_expression,f,allowed_relabellings,dets) for f in facets]\n",
    "        if True in check: is_facet = False\n",
    "    if is_facet:\n",
    "        facets.append(bell_expression)\n",
    "        print('num facets: {}'.format(len(facets)))\n",
    "    # iterate through epsilons\n",
    "    for epsilon in epsilons:\n",
    "        # define new behaviors based on epsilon\n",
    "        for j,k in product(range(eq_dets.shape[0]),repeat=2):\n",
    "            # need distinct j,k\n",
    "            if j == k:\n",
    "                continue\n",
    "            # form new probability distribution\n",
    "            e_new = (1-3*epsilon/2)*e + epsilon*eq_dets[j] + epsilon / 2 * eq_dets[k]\n",
    "            # do the facet check again\n",
    "            opt, bell_expression = find_local_weight(e_new, dets,method=method, options=options)\n",
    "\n",
    "            is_facet, bell_expression, eq_dets_new = facet_inequality_check(dets, bell_expression, len(inputs_a), len(inputs_b), len(outputs))\n",
    "            # do the same checks as above, could be done in a better way\n",
    "            if not is_facet: continue\n",
    "            check = [check_equiv_bell(bell_expression,f,allowed_relabellings,dets) for f in facets]\n",
    "            if True in check: continue\n",
    "            facets.append(bell_expression)\n",
    "            print('num facets: {}'.format(len(facets)))\n",
    "print('Number of facet classes found: {}'.format(len(facets)))\n",
    "facets = np.array(facets)\n",
    "np.savetxt(file, facets)"
   ],
   "metadata": {
    "collapsed": false,
    "pycharm": {
     "name": "#%%\n"
    }
   }
  },
  {
   "cell_type": "markdown",
   "source": [
    "Now we have found the number of classes of facets for a specific number of inputs and outputs.\n",
    "As this is just the number of classes, we could store all the facet inequalities belonging to that class along the way.\n",
    "\n"
   ],
   "metadata": {
    "collapsed": false,
    "pycharm": {
     "name": "#%% md\n"
    }
   }
  }
 ],
 "metadata": {
  "kernelspec": {
   "display_name": "Python 3",
   "language": "python",
   "name": "python3"
  },
  "language_info": {
   "codemirror_mode": {
    "name": "ipython",
    "version": 2
   },
   "file_extension": ".py",
   "mimetype": "text/x-python",
   "name": "python",
   "nbconvert_exporter": "python",
   "pygments_lexer": "ipython2",
   "version": "2.7.6"
  }
 },
 "nbformat": 4,
 "nbformat_minor": 0
}